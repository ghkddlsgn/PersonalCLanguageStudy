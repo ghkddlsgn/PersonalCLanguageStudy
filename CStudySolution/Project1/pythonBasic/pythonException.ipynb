{
 "cells": [
  {
   "cell_type": "code",
   "execution_count": 1,
   "metadata": {},
   "outputs": [
    {
     "name": "stdout",
     "output_type": "stream",
     "text": [
      "The variable has not been assigned\n"
     ]
    }
   ],
   "source": [
    "##Exception handling, except block\n",
    "try:\n",
    "    a=b\n",
    "except:\n",
    "    print(\"The variable has not been assigned\")"
   ]
  },
  {
   "cell_type": "code",
   "execution_count": 2,
   "metadata": {},
   "outputs": [
    {
     "name": "stdout",
     "output_type": "stream",
     "text": [
      "name 'b' is not defined\n"
     ]
    }
   ],
   "source": [
    "try:\n",
    "    a=b\n",
    "except NameError as ex:\n",
    "    print(ex)"
   ]
  },
  {
   "cell_type": "code",
   "execution_count": 4,
   "metadata": {},
   "outputs": [
    {
     "name": "stdout",
     "output_type": "stream",
     "text": [
      "division by zero\n",
      "Please enter the denom greater than 0\n"
     ]
    }
   ],
   "source": [
    "try:\n",
    "    result = 1/2\n",
    "except ZeroDivisionError as ex:\n",
    "    print(ex)\n",
    "    print(\"Please enter the denom greater than 0\")"
   ]
  },
  {
   "cell_type": "code",
   "execution_count": 6,
   "metadata": {},
   "outputs": [
    {
     "name": "stdout",
     "output_type": "stream",
     "text": [
      "name 'b' is not defined\n",
      "main exception got caught here\n"
     ]
    }
   ],
   "source": [
    "try:\n",
    "    result = 1/2\n",
    "    a=b\n",
    "except ZeroDivisionError as ex:\n",
    "    print(ex)\n",
    "    print(\"Please enter the denom greater than 0\")\n",
    "except Exception as ex1:\n",
    "    print(ex1)\n",
    "    print('main exception got caught here')"
   ]
  },
  {
   "cell_type": "code",
   "execution_count": 8,
   "metadata": {},
   "outputs": [
    {
     "name": "stdout",
     "output_type": "stream",
     "text": [
      "this is not valid input\n",
      "n is 0\n"
     ]
    }
   ],
   "source": [
    "try:\n",
    "    num=int(input(\"enter a number\"))\n",
    "    result = 10/num\n",
    "except ValueError:\n",
    "    print('this is not valid input')\n",
    "except ZeroDivisionError as ex:\n",
    "    print(ex)\n",
    "except Exception as ex:\n",
    "    print(ex)\n",
    "\n",
    "print(f\"n is {num}\")"
   ]
  },
  {
   "cell_type": "code",
   "execution_count": null,
   "metadata": {},
   "outputs": [
    {
     "name": "stdout",
     "output_type": "stream",
     "text": [
      "the result is 10\n"
     ]
    }
   ],
   "source": [
    "try:\n",
    "    num=int(input(\"enter number\"))\n",
    "    result = 10/num\n",
    "except ValueError:\n",
    "    print('this is not valid input')\n",
    "except ZeroDivisionError as ex:\n",
    "    print(ex)\n",
    "except Exception as ex:\n",
    "    print(ex)\n",
    "else:\n",
    "    print(f\"the result is {result}\")"
   ]
  },
  {
   "cell_type": "code",
   "execution_count": 11,
   "metadata": {},
   "outputs": [
    {
     "name": "stdout",
     "output_type": "stream",
     "text": [
      "the result is 1\n",
      "execution complete\n"
     ]
    }
   ],
   "source": [
    "# try except else and finally\n",
    "\n",
    "try:\n",
    "    num=int(input(\"enter number\"))\n",
    "    result = 10/num\n",
    "except ValueError:\n",
    "    print('this is not valid input')\n",
    "except ZeroDivisionError as ex:\n",
    "    print(ex)\n",
    "except Exception as ex:\n",
    "    print(ex)\n",
    "else:\n",
    "    print(f\"the result is {result}\")\n",
    "finally:\n",
    "    print(\"execution complete\")\n"
   ]
  }
 ],
 "metadata": {
  "kernelspec": {
   "display_name": ".venv",
   "language": "python",
   "name": "python3"
  },
  "language_info": {
   "codemirror_mode": {
    "name": "ipython",
    "version": 3
   },
   "file_extension": ".py",
   "mimetype": "text/x-python",
   "name": "python",
   "nbconvert_exporter": "python",
   "pygments_lexer": "ipython3",
   "version": "3.13.1"
  }
 },
 "nbformat": 4,
 "nbformat_minor": 2
}
