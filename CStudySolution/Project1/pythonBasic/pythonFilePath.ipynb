{
 "cells": [
  {
   "cell_type": "code",
   "execution_count": 1,
   "metadata": {},
   "outputs": [
    {
     "name": "stdout",
     "output_type": "stream",
     "text": [
      "directory 'package' create\n"
     ]
    }
   ],
   "source": [
    "import os\n",
    "new_directory = \"package\"\n",
    "os.mkdir(new_directory)\n",
    "print(f\"directory '{new_directory}' create\")"
   ]
  },
  {
   "cell_type": "code",
   "execution_count": 2,
   "metadata": {},
   "outputs": [
    {
     "name": "stdout",
     "output_type": "stream",
     "text": [
      "['codingExercise.ipynb', 'destination.txt', 'example.csv', 'filePath.ipynb', 'package', 'pythonDict.ipynb', 'pythonFilter.ipynb', 'pythonFunctions.ipynb', 'pythonLamda.ipynb', 'pythonMap.ipynb', 'pythonSet.py', 'source.txt', 'standardModules.ipynb']\n"
     ]
    }
   ],
   "source": [
    "#listing files and directories\n",
    "items = os.listdir('.')\n",
    "print(items)"
   ]
  },
  {
   "cell_type": "code",
   "execution_count": 4,
   "metadata": {},
   "outputs": [
    {
     "name": "stdout",
     "output_type": "stream",
     "text": [
      "e:\\Program\\PersonalCLanguageStudy\\CStudySolution\\Project1\\pythonBasic\\folder\\file.txt\n"
     ]
    }
   ],
   "source": [
    "#joining paths\n",
    "dir_name = \"folder\"\n",
    "file_name = \"file.txt\"\n",
    "full_path=os.path.join(os.getcwd(),dir_name, file_name)\n",
    "print(full_path)"
   ]
  },
  {
   "cell_type": "code",
   "execution_count": 5,
   "metadata": {},
   "outputs": [
    {
     "name": "stdout",
     "output_type": "stream",
     "text": [
      "The path example1.txt does not exists\n"
     ]
    }
   ],
   "source": [
    "path='example1.txt'\n",
    "if os.path.exists(path):\n",
    "    print(f\"The path {path} exists\")\n",
    "else:\n",
    "    print(f\"The path {path} does not exists\")"
   ]
  },
  {
   "cell_type": "code",
   "execution_count": 7,
   "metadata": {},
   "outputs": [
    {
     "name": "stdout",
     "output_type": "stream",
     "text": [
      "tha path example.txt is directory\n"
     ]
    }
   ],
   "source": [
    "#cheking if a path or directory\n",
    "from ntpath import isfile\n",
    "import os\n",
    "\n",
    "path = 'example.txt'\n",
    "\n",
    "if os.path.isfile(path):\n",
    "    print(f\"tha path {path} is file\")\n",
    "else:\n",
    "    os.path.isdir(path)\n",
    "    print(f\"tha path {path} is directory\")\n"
   ]
  },
  {
   "cell_type": "code",
   "execution_count": 8,
   "metadata": {},
   "outputs": [
    {
     "name": "stdout",
     "output_type": "stream",
     "text": [
      "e:\\Program\\PersonalCLanguageStudy\\CStudySolution\\Project1\\pythonBasic\\example.csv\n"
     ]
    }
   ],
   "source": [
    "#getting the abs path\n",
    "relative_path = \"example.csv\"\n",
    "abs_path = os.path.abspath(relative_path)\n",
    "print(abs_path)"
   ]
  }
 ],
 "metadata": {
  "kernelspec": {
   "display_name": ".venv",
   "language": "python",
   "name": "python3"
  },
  "language_info": {
   "codemirror_mode": {
    "name": "ipython",
    "version": 3
   },
   "file_extension": ".py",
   "mimetype": "text/x-python",
   "name": "python",
   "nbconvert_exporter": "python",
   "pygments_lexer": "ipython3",
   "version": "3.13.1"
  }
 },
 "nbformat": 4,
 "nbformat_minor": 2
}
