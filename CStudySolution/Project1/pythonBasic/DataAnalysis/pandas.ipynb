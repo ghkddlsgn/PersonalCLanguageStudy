{
 "cells": [
  {
   "cell_type": "code",
   "execution_count": 46,
   "metadata": {},
   "outputs": [],
   "source": [
    "import pandas as pd"
   ]
  },
  {
   "cell_type": "code",
   "execution_count": 47,
   "metadata": {},
   "outputs": [
    {
     "name": "stdout",
     "output_type": "stream",
     "text": [
      "series\n",
      " 0    1\n",
      "1    2\n",
      "2    3\n",
      "3    4\n",
      "4    5\n",
      "dtype: int64\n",
      "<class 'pandas.core.series.Series'>\n"
     ]
    }
   ],
   "source": [
    "#series\n",
    "\n",
    "data = [1,2,3,4,5]\n",
    "series = pd.Series(data)\n",
    "print(\"series\\n\",series)\n",
    "print(type(series))"
   ]
  },
  {
   "cell_type": "code",
   "execution_count": 48,
   "metadata": {},
   "outputs": [
    {
     "name": "stdout",
     "output_type": "stream",
     "text": [
      "a    1\n",
      "b    2\n",
      "c    3\n",
      "dtype: int64\n"
     ]
    }
   ],
   "source": [
    "#create a series from dict\n",
    "data = {'a':1, 'b':2, 'c':3}\n",
    "series_dict = pd.Series(data)\n",
    "print(series_dict)"
   ]
  },
  {
   "cell_type": "code",
   "execution_count": 49,
   "metadata": {},
   "outputs": [
    {
     "data": {
      "text/plain": [
       "a    10\n",
       "b    20\n",
       "c    30\n",
       "dtype: int64"
      ]
     },
     "execution_count": 49,
     "metadata": {},
     "output_type": "execute_result"
    }
   ],
   "source": [
    "data = [10,20,30]\n",
    "index=['a','b','c']\n",
    "pd.Series(data,index)"
   ]
  },
  {
   "cell_type": "code",
   "execution_count": 50,
   "metadata": {},
   "outputs": [
    {
     "name": "stdout",
     "output_type": "stream",
     "text": [
      "    Name  Age       City\n",
      "0  Krish   25  Bangalore\n",
      "1   John   30   New york\n",
      "2   Jack   55      Texas\n",
      "<class 'pandas.core.frame.DataFrame'>\n"
     ]
    }
   ],
   "source": [
    "#data frame\n",
    "#create a dataframe from a dict of list\n",
    "\n",
    "data={\n",
    "    'Name':['Krish', 'John', 'Jack'],\n",
    "    'Age':[25,30,55],\n",
    "    'City':['Bangalore', 'New york', 'Texas']\n",
    "}\n",
    "df = pd.DataFrame(data)\n",
    "print(df)\n",
    "print(type(df))"
   ]
  },
  {
   "cell_type": "code",
   "execution_count": 51,
   "metadata": {},
   "outputs": [
    {
     "name": "stdout",
     "output_type": "stream",
     "text": [
      "    Name  Age       City\n",
      "0  Krish   25  Bangalore\n",
      "1   John   30   New york\n",
      "2   Jack   55      Texas\n",
      "3   Mike   35    Chicago\n",
      "4  Sarah   28     Boston\n"
     ]
    }
   ],
   "source": [
    "#create a data frame from a list of dict\n",
    "data=[\n",
    "    {'Name': 'Krish', 'Age': 25, 'City': 'Bangalore'},\n",
    "    {'Name': 'John', 'Age': 30, 'City': 'New york'},\n",
    "    {'Name': 'Jack', 'Age': 55, 'City': 'Texas'},\n",
    "    {'Name': 'Mike', 'Age': 35, 'City': 'Chicago'},\n",
    "    {'Name': 'Sarah', 'Age': 28, 'City': 'Boston'}\n",
    "]\n",
    "df = pd.DataFrame(data)\n",
    "print(df)"
   ]
  },
  {
   "cell_type": "code",
   "execution_count": 52,
   "metadata": {},
   "outputs": [
    {
     "name": "stdout",
     "output_type": "stream",
     "text": [
      "           Date Product_ID Product_Name     Category  Quantity  Unit_Price  \\\n",
      "0    2024-01-20      P1234       Laptop  Electronics         5         899   \n",
      "1    2024-01-19      P2345        Phone  Electronics         3         599   \n",
      "2    2024-01-18      P3456       Tablet  Electronics         2         399   \n",
      "3    2024-01-17      P4567      Monitor  Electronics         4         299   \n",
      "4    2024-01-16      P5678     Keyboard  Accessories         7          79   \n",
      "..          ...        ...          ...          ...       ...         ...   \n",
      "103  2023-10-09      P5689      Monitor  Electronics         3         299   \n",
      "104  2023-10-08      P6790     Keyboard  Accessories         6          79   \n",
      "105  2023-10-07      P7901        Mouse  Accessories         8          49   \n",
      "106  2023-10-06      P8912      Printer  Peripherals         2         199   \n",
      "107  2023-10-05      P9023   Headphones  Accessories         5         129   \n",
      "\n",
      "     Total_Amount Customer_ID Region Payment_Method  \n",
      "0            4495       C5678  North    Credit Card  \n",
      "1            1797       C6789  South     Debit Card  \n",
      "2             798       C7890   East         PayPal  \n",
      "3            1196       C8901   West           Cash  \n",
      "4             553       C9012  North    Credit Card  \n",
      "..            ...         ...    ...            ...  \n",
      "103           897       C9023   West           Cash  \n",
      "104           474       C1245  North    Credit Card  \n",
      "105           392       C2356  South         PayPal  \n",
      "106           398       C3467   East     Debit Card  \n",
      "107           645       C4578   West           Cash  \n",
      "\n",
      "[108 rows x 10 columns]\n"
     ]
    }
   ],
   "source": [
    "df = pd.read_csv('../example.csv')\n",
    "print(df)"
   ]
  },
  {
   "cell_type": "code",
   "execution_count": 53,
   "metadata": {},
   "outputs": [
    {
     "data": {
      "text/plain": [
       "Date               2024-01-20\n",
       "Product_ID              P1234\n",
       "Product_Name           Laptop\n",
       "Category          Electronics\n",
       "Quantity                    5\n",
       "Unit_Price                899\n",
       "Total_Amount             4495\n",
       "Customer_ID             C5678\n",
       "Region                  North\n",
       "Payment_Method    Credit Card\n",
       "Name: 0, dtype: object"
      ]
     },
     "execution_count": 53,
     "metadata": {},
     "output_type": "execute_result"
    }
   ],
   "source": [
    "df.loc[0]"
   ]
  },
  {
   "cell_type": "code",
   "execution_count": 54,
   "metadata": {},
   "outputs": [
    {
     "data": {
      "text/plain": [
       "Date               2024-01-20\n",
       "Product_ID              P1234\n",
       "Product_Name           Laptop\n",
       "Category          Electronics\n",
       "Quantity                    5\n",
       "Unit_Price                899\n",
       "Total_Amount             4495\n",
       "Customer_ID             C5678\n",
       "Region                  North\n",
       "Payment_Method    Credit Card\n",
       "Name: 0, dtype: object"
      ]
     },
     "execution_count": 54,
     "metadata": {},
     "output_type": "execute_result"
    }
   ],
   "source": [
    "df.iloc[0]"
   ]
  },
  {
   "cell_type": "code",
   "execution_count": 55,
   "metadata": {},
   "outputs": [
    {
     "data": {
      "text/plain": [
       "'2024-01-19'"
      ]
     },
     "execution_count": 55,
     "metadata": {},
     "output_type": "execute_result"
    }
   ],
   "source": [
    "#accessing a specific element\n",
    "df.at[0,'Date']"
   ]
  },
  {
   "cell_type": "code",
   "execution_count": 56,
   "metadata": {},
   "outputs": [
    {
     "data": {
      "text/plain": [
       "'P3456'"
      ]
     },
     "execution_count": 56,
     "metadata": {},
     "output_type": "execute_result"
    }
   ],
   "source": [
    "df.at[2, 'Product_ID']"
   ]
  },
  {
   "cell_type": "code",
   "execution_count": 57,
   "metadata": {},
   "outputs": [
    {
     "data": {
      "text/plain": [
       "'Tablet'"
      ]
     },
     "execution_count": 57,
     "metadata": {},
     "output_type": "execute_result"
    }
   ],
   "source": [
    "df.iat[2,2]"
   ]
  },
  {
   "cell_type": "code",
   "execution_count": 61,
   "metadata": {},
   "outputs": [
    {
     "name": "stdout",
     "output_type": "stream",
     "text": [
      "           Date Product_ID Product_Name     Category  Quantity  Unit_Price  \\\n",
      "0    2024-01-20      P1234       Laptop  Electronics         5         899   \n",
      "1    2024-01-19      P2345        Phone  Electronics         3         599   \n",
      "2    2024-01-18      P3456       Tablet  Electronics         2         399   \n",
      "3    2024-01-17      P4567      Monitor  Electronics         4         299   \n",
      "4    2024-01-16      P5678     Keyboard  Accessories         7          79   \n",
      "..          ...        ...          ...          ...       ...         ...   \n",
      "103  2023-10-09      P5689      Monitor  Electronics         3         299   \n",
      "104  2023-10-08      P6790     Keyboard  Accessories         6          79   \n",
      "105  2023-10-07      P7901        Mouse  Accessories         8          49   \n",
      "106  2023-10-06      P8912      Printer  Peripherals         2         199   \n",
      "107  2023-10-05      P9023   Headphones  Accessories         5         129   \n",
      "\n",
      "     Total_Amount Customer_ID Region Payment_Method    exp  \n",
      "0            4495       C5678  North    Credit Card  10000  \n",
      "1            1797       C6789  South     Debit Card  10000  \n",
      "2             798       C7890   East         PayPal  10000  \n",
      "3            1196       C8901   West           Cash  10000  \n",
      "4             553       C9012  North    Credit Card  10000  \n",
      "..            ...         ...    ...            ...    ...  \n",
      "103           897       C9023   West           Cash  10000  \n",
      "104           474       C1245  North    Credit Card  10000  \n",
      "105           392       C2356  South         PayPal  10000  \n",
      "106           398       C3467   East     Debit Card  10000  \n",
      "107           645       C4578   West           Cash  10000  \n",
      "\n",
      "[108 rows x 11 columns]\n",
      "           Date Product_ID Product_Name     Category  Quantity  Unit_Price  \\\n",
      "0    2024-01-20      P1234       Laptop  Electronics         5         899   \n",
      "1    2024-01-19      P2345        Phone  Electronics         3         599   \n",
      "2    2024-01-18      P3456       Tablet  Electronics         2         399   \n",
      "3    2024-01-17      P4567      Monitor  Electronics         4         299   \n",
      "4    2024-01-16      P5678     Keyboard  Accessories         7          79   \n",
      "..          ...        ...          ...          ...       ...         ...   \n",
      "103  2023-10-09      P5689      Monitor  Electronics         3         299   \n",
      "104  2023-10-08      P6790     Keyboard  Accessories         6          79   \n",
      "105  2023-10-07      P7901        Mouse  Accessories         8          49   \n",
      "106  2023-10-06      P8912      Printer  Peripherals         2         199   \n",
      "107  2023-10-05      P9023   Headphones  Accessories         5         129   \n",
      "\n",
      "     Total_Amount Customer_ID Region Payment_Method    exp  \n",
      "0            4495       C5678  North    Credit Card  10000  \n",
      "1            1797       C6789  South     Debit Card  10000  \n",
      "2             798       C7890   East         PayPal  10000  \n",
      "3            1196       C8901   West           Cash  10000  \n",
      "4             553       C9012  North    Credit Card  10000  \n",
      "..            ...         ...    ...            ...    ...  \n",
      "103           897       C9023   West           Cash  10000  \n",
      "104           474       C1245  North    Credit Card  10000  \n",
      "105           392       C2356  South         PayPal  10000  \n",
      "106           398       C3467   East     Debit Card  10000  \n",
      "107           645       C4578   West           Cash  10000  \n",
      "\n",
      "[108 rows x 11 columns]\n"
     ]
    }
   ],
   "source": [
    "#data manipulation with dataframe\n",
    "csv = pd.read_csv('../example2.csv')\n",
    "\n",
    "df = pd.DataFrame(csv)\n",
    "df['exp'] = 10000\n",
    "print(df)"
   ]
  },
  {
   "cell_type": "code",
   "execution_count": 63,
   "metadata": {},
   "outputs": [
    {
     "name": "stdout",
     "output_type": "stream",
     "text": [
      "           Date Product_ID Product_Name     Category  Quantity  Unit_Price  \\\n",
      "0    2024-01-20      P1234       Laptop  Electronics         5         899   \n",
      "1    2024-01-19      P2345        Phone  Electronics         3         599   \n",
      "2    2024-01-18      P3456       Tablet  Electronics         2         399   \n",
      "3    2024-01-17      P4567      Monitor  Electronics         4         299   \n",
      "4    2024-01-16      P5678     Keyboard  Accessories         7          79   \n",
      "..          ...        ...          ...          ...       ...         ...   \n",
      "103  2023-10-09      P5689      Monitor  Electronics         3         299   \n",
      "104  2023-10-08      P6790     Keyboard  Accessories         6          79   \n",
      "105  2023-10-07      P7901        Mouse  Accessories         8          49   \n",
      "106  2023-10-06      P8912      Printer  Peripherals         2         199   \n",
      "107  2023-10-05      P9023   Headphones  Accessories         5         129   \n",
      "\n",
      "     Total_Amount Customer_ID Region Payment_Method  \n",
      "0            4495       C5678  North    Credit Card  \n",
      "1            1797       C6789  South     Debit Card  \n",
      "2             798       C7890   East         PayPal  \n",
      "3            1196       C8901   West           Cash  \n",
      "4             553       C9012  North    Credit Card  \n",
      "..            ...         ...    ...            ...  \n",
      "103           897       C9023   West           Cash  \n",
      "104           474       C1245  North    Credit Card  \n",
      "105           392       C2356  South         PayPal  \n",
      "106           398       C3467   East     Debit Card  \n",
      "107           645       C4578   West           Cash  \n",
      "\n",
      "[108 rows x 10 columns]\n"
     ]
    }
   ],
   "source": [
    "df.drop('exp', axis=1, inplace=True)\n",
    "print(df)"
   ]
  },
  {
   "cell_type": "code",
   "execution_count": 64,
   "metadata": {},
   "outputs": [
    {
     "name": "stdout",
     "output_type": "stream",
     "text": [
      "           Date Product_ID Product_Name     Category  Quantity  Unit_Price  \\\n",
      "0    2024-01-20      P1234       Laptop  Electronics         5         899   \n",
      "1    2024-01-19      P2345        Phone  Electronics         3         599   \n",
      "2    2024-01-18      P3456       Tablet  Electronics         2         399   \n",
      "3    2024-01-17      P4567      Monitor  Electronics         4         299   \n",
      "4    2024-01-16      P5678     Keyboard  Accessories         7          79   \n",
      "..          ...        ...          ...          ...       ...         ...   \n",
      "103  2023-10-09      P5689      Monitor  Electronics         3         299   \n",
      "104  2023-10-08      P6790     Keyboard  Accessories         6          79   \n",
      "105  2023-10-07      P7901        Mouse  Accessories         8          49   \n",
      "106  2023-10-06      P8912      Printer  Peripherals         2         199   \n",
      "107  2023-10-05      P9023   Headphones  Accessories         5         129   \n",
      "\n",
      "     Total_Amount Customer_ID Region Payment_Method  Quntity  \n",
      "0            4495       C5678  North    Credit Card        6  \n",
      "1            1797       C6789  South     Debit Card        4  \n",
      "2             798       C7890   East         PayPal        3  \n",
      "3            1196       C8901   West           Cash        5  \n",
      "4             553       C9012  North    Credit Card        8  \n",
      "..            ...         ...    ...            ...      ...  \n",
      "103           897       C9023   West           Cash        4  \n",
      "104           474       C1245  North    Credit Card        7  \n",
      "105           392       C2356  South         PayPal        9  \n",
      "106           398       C3467   East     Debit Card        3  \n",
      "107           645       C4578   West           Cash        6  \n",
      "\n",
      "[108 rows x 11 columns]\n"
     ]
    }
   ],
   "source": [
    "#add age to the column\n",
    "df['Quntity'] = df['Quantity']+1\n",
    "print(df)"
   ]
  },
  {
   "cell_type": "code",
   "execution_count": 65,
   "metadata": {},
   "outputs": [
    {
     "name": "stdout",
     "output_type": "stream",
     "text": [
      "         Quantity  Unit_Price  Total_Amount     Quntity\n",
      "count  108.000000  108.000000    108.000000  108.000000\n",
      "mean     4.296296  330.111111   1188.851852    5.296296\n",
      "std      2.158484  259.911320   1048.055028    2.158484\n",
      "min      1.000000   49.000000    199.000000    2.000000\n",
      "25%      3.000000  129.000000    467.250000    4.000000\n",
      "50%      4.000000  249.000000    774.000000    5.000000\n",
      "75%      6.000000  499.000000   1497.000000    7.000000\n",
      "max     10.000000  899.000000   4495.000000   11.000000\n"
     ]
    }
   ],
   "source": [
    "print(df.describe())"
   ]
  }
 ],
 "metadata": {
  "kernelspec": {
   "display_name": ".venv",
   "language": "python",
   "name": "python3"
  },
  "language_info": {
   "codemirror_mode": {
    "name": "ipython",
    "version": 3
   },
   "file_extension": ".py",
   "mimetype": "text/x-python",
   "name": "python",
   "nbconvert_exporter": "python",
   "pygments_lexer": "ipython3",
   "version": "3.13.1"
  }
 },
 "nbformat": 4,
 "nbformat_minor": 2
}
