{
 "cells": [
  {
   "cell_type": "code",
   "execution_count": 1,
   "metadata": {},
   "outputs": [],
   "source": [
    "import sqlite3"
   ]
  },
  {
   "cell_type": "code",
   "execution_count": 2,
   "metadata": {},
   "outputs": [],
   "source": [
    "#connect to an SQLite database\n",
    "connection = sqlite3.connect('example.db')"
   ]
  },
  {
   "cell_type": "code",
   "execution_count": 3,
   "metadata": {},
   "outputs": [],
   "source": [
    "cursor = connection.cursor()"
   ]
  },
  {
   "cell_type": "code",
   "execution_count": 4,
   "metadata": {},
   "outputs": [],
   "source": [
    "#create a table\n",
    "cursor.execute('''\n",
    "CREATE TABLE IF NOT EXISTS employees(\n",
    "    id INTEGER PRIMARY KEY,\n",
    "    name TEXT NOT NULL,\n",
    "    age INTEGER,\n",
    "    department TEXT\n",
    ")\n",
    "''')\n",
    "\n",
    "#commit the changes\n",
    "connection.commit()"
   ]
  },
  {
   "cell_type": "code",
   "execution_count": 5,
   "metadata": {},
   "outputs": [
    {
     "data": {
      "text/plain": [
       "<sqlite3.Cursor at 0x22e96d3b040>"
      ]
     },
     "execution_count": 5,
     "metadata": {},
     "output_type": "execute_result"
    }
   ],
   "source": [
    "cursor.execute('''\n",
    "SELECT * FROM employees\n",
    "''')"
   ]
  },
  {
   "cell_type": "code",
   "execution_count": 6,
   "metadata": {},
   "outputs": [],
   "source": [
    "#imsert the data in sqlite table\n",
    "cursor.execute(\n",
    "'''\n",
    "Insert Into employees(name, age, department)\n",
    "            values('Krish', 32,'Data Scientist')\n",
    "            ,('John', 28,'Software Engineer'),\n",
    "            ('Sarah', 35,'Product Manager')\n",
    "'''    \n",
    ")\n",
    "\n",
    "connection.commit()"
   ]
  },
  {
   "cell_type": "code",
   "execution_count": 7,
   "metadata": {},
   "outputs": [
    {
     "name": "stdout",
     "output_type": "stream",
     "text": [
      "(1, 'Krish', 34, 'Data Scientist')\n",
      "(2, 'John', 28, 'Software Engineer')\n",
      "(3, 'Sarah', 35, 'Product Manager')\n",
      "(4, 'Krish', 34, 'Data Scientist')\n",
      "(5, 'John', 28, 'Software Engineer')\n",
      "(6, 'Sarah', 35, 'Product Manager')\n",
      "(7, 'Krish', 34, 'Data Scientist')\n",
      "(8, 'John', 28, 'Software Engineer')\n",
      "(9, 'Sarah', 35, 'Product Manager')\n",
      "(10, 'Krish', 32, 'Data Scientist')\n",
      "(11, 'John', 28, 'Software Engineer')\n",
      "(12, 'Sarah', 35, 'Product Manager')\n"
     ]
    }
   ],
   "source": [
    "#query the data from the table\n",
    "cursor.execute('Select * from employees')\n",
    "rows=cursor.fetchall()\n",
    "#print the queried data\n",
    "for row in rows:\n",
    "    print(row)"
   ]
  },
  {
   "cell_type": "code",
   "execution_count": 8,
   "metadata": {},
   "outputs": [],
   "source": [
    "#update the data in the table\n",
    "cursor.execute('''\n",
    "UPDATE employees\n",
    "SET age = 34\n",
    "WHERE name=\"Krish\"\n",
    "''')\n",
    "\n",
    "connection.commit()"
   ]
  },
  {
   "cell_type": "code",
   "execution_count": 9,
   "metadata": {},
   "outputs": [
    {
     "name": "stdout",
     "output_type": "stream",
     "text": [
      "(1, 'Krish', 34, 'Data Scientist')\n",
      "(2, 'John', 28, 'Software Engineer')\n",
      "(3, 'Sarah', 35, 'Product Manager')\n",
      "(4, 'Krish', 34, 'Data Scientist')\n",
      "(5, 'John', 28, 'Software Engineer')\n",
      "(6, 'Sarah', 35, 'Product Manager')\n",
      "(7, 'Krish', 34, 'Data Scientist')\n",
      "(8, 'John', 28, 'Software Engineer')\n",
      "(9, 'Sarah', 35, 'Product Manager')\n",
      "(10, 'Krish', 34, 'Data Scientist')\n",
      "(11, 'John', 28, 'Software Engineer')\n",
      "(12, 'Sarah', 35, 'Product Manager')\n"
     ]
    }
   ],
   "source": [
    "cursor.execute('''\n",
    "SELECT * FROM employees\n",
    "''')\n",
    "rows=cursor.fetchall()\n",
    "for row in rows:\n",
    "    print(row)"
   ]
  },
  {
   "cell_type": "code",
   "execution_count": 10,
   "metadata": {},
   "outputs": [],
   "source": [
    "#delete data\n",
    "cursor.execute('''\n",
    "DELETE from employees\n",
    "WHERE name = 'John'\n",
    "''')\n",
    "\n",
    "connection.commit()"
   ]
  },
  {
   "cell_type": "code",
   "execution_count": 11,
   "metadata": {},
   "outputs": [
    {
     "name": "stdout",
     "output_type": "stream",
     "text": [
      "(1, 'Krish', 34, 'Data Scientist')\n",
      "(3, 'Sarah', 35, 'Product Manager')\n",
      "(4, 'Krish', 34, 'Data Scientist')\n",
      "(6, 'Sarah', 35, 'Product Manager')\n",
      "(7, 'Krish', 34, 'Data Scientist')\n",
      "(9, 'Sarah', 35, 'Product Manager')\n",
      "(10, 'Krish', 34, 'Data Scientist')\n",
      "(12, 'Sarah', 35, 'Product Manager')\n"
     ]
    }
   ],
   "source": [
    "cursor.execute('''\n",
    "SELECT * FROM employees\n",
    "''')\n",
    "rows=cursor.fetchall()\n",
    "for row in rows:\n",
    "    print(row)"
   ]
  },
  {
   "cell_type": "code",
   "execution_count": null,
   "metadata": {},
   "outputs": [],
   "source": [
    "cursor.executemany('''\n",
    "Insert into sales(date, product,)\n",
    "''')"
   ]
  }
 ],
 "metadata": {
  "kernelspec": {
   "display_name": ".venv",
   "language": "python",
   "name": "python3"
  },
  "language_info": {
   "codemirror_mode": {
    "name": "ipython",
    "version": 3
   },
   "file_extension": ".py",
   "mimetype": "text/x-python",
   "name": "python",
   "nbconvert_exporter": "python",
   "pygments_lexer": "ipython3",
   "version": "3.13.1"
  }
 },
 "nbformat": 4,
 "nbformat_minor": 2
}
