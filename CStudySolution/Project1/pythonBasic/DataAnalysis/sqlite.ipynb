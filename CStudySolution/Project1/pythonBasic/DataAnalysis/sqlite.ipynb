{
 "cells": [
  {
   "cell_type": "code",
   "execution_count": 1,
   "metadata": {},
   "outputs": [],
   "source": [
    "import sqlite3"
   ]
  },
  {
   "cell_type": "code",
   "execution_count": 2,
   "metadata": {},
   "outputs": [],
   "source": [
    "#connect to an SQLite database\n",
    "connection = sqlite3.connect('example.db')"
   ]
  },
  {
   "cell_type": "code",
   "execution_count": 3,
   "metadata": {},
   "outputs": [],
   "source": [
    "cursor = connection.cursor()"
   ]
  },
  {
   "cell_type": "code",
   "execution_count": 4,
   "metadata": {},
   "outputs": [],
   "source": [
    "#create a table\n",
    "cursor.execute('''\n",
    "CREATE TABLE IF NOT EXISTS employees(\n",
    "    id INTEGER PRIMARY KEY,\n",
    "    name TEXT NOT NULL,\n",
    "    age INTEGER,\n",
    "    department TEXT\n",
    ")\n",
    "''')\n",
    "\n",
    "#commit the changes\n",
    "connection.commit()"
   ]
  },
  {
   "cell_type": "code",
   "execution_count": 5,
   "metadata": {},
   "outputs": [
    {
     "data": {
      "text/plain": [
       "<sqlite3.Cursor at 0x22e96d3b040>"
      ]
     },
     "execution_count": 5,
     "metadata": {},
     "output_type": "execute_result"
    }
   ],
   "source": [
    "cursor.execute('''\n",
    "SELECT * FROM employees\n",
    "''')"
   ]
  },
  {
   "cell_type": "code",
   "execution_count": 6,
   "metadata": {},
   "outputs": [],
   "source": [
    "#imsert the data in sqlite table\n",
    "cursor.execute(\n",
    "'''\n",
    "Insert Into employees(name, age, department)\n",
    "            values('Krish', 32,'Data Scientist')\n",
    "            ,('John', 28,'Software Engineer'),\n",
    "            ('Sarah', 35,'Product Manager')\n",
    "'''    \n",
    ")\n",
    "\n",
    "connection.commit()"
   ]
  },
  {
   "cell_type": "code",
   "execution_count": 7,
   "metadata": {},
   "outputs": [
    {
     "name": "stdout",
     "output_type": "stream",
     "text": [
      "(1, 'Krish', 34, 'Data Scientist')\n",
      "(2, 'John', 28, 'Software Engineer')\n",
      "(3, 'Sarah', 35, 'Product Manager')\n",
      "(4, 'Krish', 34, 'Data Scientist')\n",
      "(5, 'John', 28, 'Software Engineer')\n",
      "(6, 'Sarah', 35, 'Product Manager')\n",
      "(7, 'Krish', 34, 'Data Scientist')\n",
      "(8, 'John', 28, 'Software Engineer')\n",
      "(9, 'Sarah', 35, 'Product Manager')\n",
      "(10, 'Krish', 32, 'Data Scientist')\n",
      "(11, 'John', 28, 'Software Engineer')\n",
      "(12, 'Sarah', 35, 'Product Manager')\n"
     ]
    }
   ],
   "source": [
    "#query the data from the table\n",
    "cursor.execute('Select * from employees')\n",
    "rows=cursor.fetchall()\n",
    "#print the queried data\n",
    "for row in rows:\n",
    "    print(row)"
   ]
  },
  {
   "cell_type": "code",
   "execution_count": 8,
   "metadata": {},
   "outputs": [],
   "source": [
    "#update the data in the table\n",
    "cursor.execute('''\n",
    "UPDATE employees\n",
    "SET age = 34\n",
    "WHERE name=\"Krish\"\n",
    "''')\n",
    "\n",
    "connection.commit()"
   ]
  },
  {
   "cell_type": "code",
   "execution_count": 9,
   "metadata": {},
   "outputs": [
    {
     "name": "stdout",
     "output_type": "stream",
     "text": [
      "(1, 'Krish', 34, 'Data Scientist')\n",
      "(2, 'John', 28, 'Software Engineer')\n",
      "(3, 'Sarah', 35, 'Product Manager')\n",
      "(4, 'Krish', 34, 'Data Scientist')\n",
      "(5, 'John', 28, 'Software Engineer')\n",
      "(6, 'Sarah', 35, 'Product Manager')\n",
      "(7, 'Krish', 34, 'Data Scientist')\n",
      "(8, 'John', 28, 'Software Engineer')\n",
      "(9, 'Sarah', 35, 'Product Manager')\n",
      "(10, 'Krish', 34, 'Data Scientist')\n",
      "(11, 'John', 28, 'Software Engineer')\n",
      "(12, 'Sarah', 35, 'Product Manager')\n"
     ]
    }
   ],
   "source": [
    "cursor.execute('''\n",
    "SELECT * FROM employees\n",
    "''')\n",
    "rows=cursor.fetchall()\n",
    "for row in rows:\n",
    "    print(row)"
   ]
  },
  {
   "cell_type": "code",
   "execution_count": 10,
   "metadata": {},
   "outputs": [],
   "source": [
    "#delete data\n",
    "cursor.execute('''\n",
    "DELETE from employees\n",
    "WHERE name = 'John'\n",
    "''')\n",
    "\n",
    "connection.commit()"
   ]
  },
  {
   "cell_type": "code",
   "execution_count": 11,
   "metadata": {},
   "outputs": [
    {
     "name": "stdout",
     "output_type": "stream",
     "text": [
      "(1, 'Krish', 34, 'Data Scientist')\n",
      "(3, 'Sarah', 35, 'Product Manager')\n",
      "(4, 'Krish', 34, 'Data Scientist')\n",
      "(6, 'Sarah', 35, 'Product Manager')\n",
      "(7, 'Krish', 34, 'Data Scientist')\n",
      "(9, 'Sarah', 35, 'Product Manager')\n",
      "(10, 'Krish', 34, 'Data Scientist')\n",
      "(12, 'Sarah', 35, 'Product Manager')\n"
     ]
    }
   ],
   "source": [
    "cursor.execute('''\n",
    "SELECT * FROM employees\n",
    "''')\n",
    "rows=cursor.fetchall()\n",
    "for row in rows:\n",
    "    print(row)"
   ]
  },
  {
   "cell_type": "code",
   "execution_count": 13,
   "metadata": {},
   "outputs": [],
   "source": [
    "#close the connection\n",
    "connection.close()"
   ]
  },
  {
   "cell_type": "code",
   "execution_count": 12,
   "metadata": {},
   "outputs": [
    {
     "ename": "OperationalError",
     "evalue": "no such table: sales",
     "output_type": "error",
     "traceback": [
      "\u001b[31m---------------------------------------------------------------------------\u001b[39m",
      "\u001b[31mOperationalError\u001b[39m                          Traceback (most recent call last)",
      "\u001b[36mCell\u001b[39m\u001b[36m \u001b[39m\u001b[32mIn[12]\u001b[39m\u001b[32m, line 11\u001b[39m\n\u001b[32m      1\u001b[39m sales_data = [\n\u001b[32m      2\u001b[39m     (\u001b[33m'\u001b[39m\u001b[33m2023-01-01\u001b[39m\u001b[33m'\u001b[39m, \u001b[33m'\u001b[39m\u001b[33mProduct A\u001b[39m\u001b[33m'\u001b[39m, \u001b[32m1500\u001b[39m, \u001b[33m'\u001b[39m\u001b[33mNorth\u001b[39m\u001b[33m'\u001b[39m),\n\u001b[32m      3\u001b[39m     (\u001b[33m'\u001b[39m\u001b[33m2023-01-02\u001b[39m\u001b[33m'\u001b[39m, \u001b[33m'\u001b[39m\u001b[33mProduct B\u001b[39m\u001b[33m'\u001b[39m, \u001b[32m2000\u001b[39m, \u001b[33m'\u001b[39m\u001b[33mSouth\u001b[39m\u001b[33m'\u001b[39m), \n\u001b[32m   (...)\u001b[39m\u001b[32m      9\u001b[39m     (\u001b[33m'\u001b[39m\u001b[33m2023-01-08\u001b[39m\u001b[33m'\u001b[39m, \u001b[33m'\u001b[39m\u001b[33mProduct B\u001b[39m\u001b[33m'\u001b[39m, \u001b[32m2200\u001b[39m, \u001b[33m'\u001b[39m\u001b[33mWest\u001b[39m\u001b[33m'\u001b[39m)\n\u001b[32m     10\u001b[39m ]\n\u001b[32m---> \u001b[39m\u001b[32m11\u001b[39m \u001b[43mcursor\u001b[49m\u001b[43m.\u001b[49m\u001b[43mexecutemany\u001b[49m\u001b[43m(\u001b[49m\u001b[33;43m'''\u001b[39;49m\n\u001b[32m     12\u001b[39m \u001b[33;43mInsert into sales(date, product,sales,region)\u001b[39;49m\n\u001b[32m     13\u001b[39m \u001b[33;43mVALUES(?,?,?,?)\u001b[39;49m\n\u001b[32m     14\u001b[39m \u001b[33;43m'''\u001b[39;49m\u001b[43m,\u001b[49m\u001b[43msales_data\u001b[49m\u001b[43m)\u001b[49m\n\u001b[32m     15\u001b[39m connection.commit\n",
      "\u001b[31mOperationalError\u001b[39m: no such table: sales"
     ]
    }
   ],
   "source": [
    "\n",
    "sales_data = [\n",
    "    ('2023-01-01', 'Product A', 1500, 'North'),\n",
    "    ('2023-01-02', 'Product B', 2000, 'South'), \n",
    "    ('2023-01-03', 'Product A', 1800, 'East'),\n",
    "    ('2023-01-04', 'Product C', 900, 'West'),\n",
    "    ('2023-01-05', 'Product B', 2500, 'North'),\n",
    "    ('2023-01-06', 'Product C', 1200, 'South'),\n",
    "    ('2023-01-07', 'Product A', 1600, 'East'),\n",
    "    ('2023-01-08', 'Product B', 2200, 'West')\n",
    "]\n",
    "cursor.executemany('''\n",
    "Insert into sales(date, product,sales,region)\n",
    "VALUES(?,?,?,?)\n",
    "''',sales_data)\n",
    "connection.commit"
   ]
  }
 ],
 "metadata": {
  "kernelspec": {
   "display_name": ".venv",
   "language": "python",
   "name": "python3"
  },
  "language_info": {
   "codemirror_mode": {
    "name": "ipython",
    "version": 3
   },
   "file_extension": ".py",
   "mimetype": "text/x-python",
   "name": "python",
   "nbconvert_exporter": "python",
   "pygments_lexer": "ipython3",
   "version": "3.13.1"
  }
 },
 "nbformat": 4,
 "nbformat_minor": 2
}
