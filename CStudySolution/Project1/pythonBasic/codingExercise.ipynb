{
 "cells": [
  {
   "cell_type": "code",
   "execution_count": null,
   "metadata": {},
   "outputs": [],
   "source": [
    "def check_unique(lst):\n",
    "    # Your code goes here\n",
    "    my_dict = {}\n",
    "    for i, value in enumerate(lst):\n",
    "        if value in my_dict:\n",
    "            return False\n",
    "        else:\n",
    "            my_dict[value] = 1\n",
    "    \n",
    "    return True\n"
   ]
  },
  {
   "cell_type": "code",
   "execution_count": 4,
   "metadata": {},
   "outputs": [
    {
     "name": "stdout",
     "output_type": "stream",
     "text": [
      "(2, 3)\n",
      "(5, 0)\n",
      "(0, 5)\n"
     ]
    }
   ],
   "source": [
    "def count_even_odd(lst):\n",
    "    odd, even = 0,0\n",
    "    for value in lst:\n",
    "        if value%2 == 0:\n",
    "            even += 1\n",
    "        else:\n",
    "            odd += 1\n",
    "    return (even, odd)\n",
    "\n",
    "print(count_even_odd([1, 2, 3, 4, 5]))\n",
    "print(count_even_odd([2, 4, 6, 8, 10]))\n",
    "print(count_even_odd([1, 3, 5, 7, 9]))"
   ]
  },
  {
   "cell_type": "code",
   "execution_count": 8,
   "metadata": {},
   "outputs": [
    {
     "name": "stdout",
     "output_type": "stream",
     "text": [
      "True\n"
     ]
    }
   ],
   "source": [
    "def is_subset(lst1, lst2):\n",
    "    # Your code goes here\n",
    "    return all(item in lst2 for item in lst1)\n",
    "\n",
    "lst1 = [1, 2, 3]\n",
    "lst2 = [1, 2, 3, 4, 5]\n",
    "print(is_subset(lst1, lst2))"
   ]
  }
 ],
 "metadata": {
  "kernelspec": {
   "display_name": ".venv",
   "language": "python",
   "name": "python3"
  },
  "language_info": {
   "name": "python",
   "version": "3.13.1"
  }
 },
 "nbformat": 4,
 "nbformat_minor": 2
}
