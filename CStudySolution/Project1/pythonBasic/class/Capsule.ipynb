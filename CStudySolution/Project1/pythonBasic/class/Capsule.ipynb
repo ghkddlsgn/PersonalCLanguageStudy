{
 "cells": [
  {
   "cell_type": "code",
   "execution_count": 1,
   "metadata": {},
   "outputs": [],
   "source": [
    "#encalsulation with getter and setter\n",
    "class Person:\n",
    "    def __init__(self, name, age) -> None:\n",
    "        self.name = name #public\n",
    "        self.age=age #public\n",
    "\n",
    "def get_name(person):\n",
    "    return person.name\n",
    "\n",
    "a = Person(\"aa\", 10)"
   ]
  },
  {
   "cell_type": "code",
   "execution_count": null,
   "metadata": {},
   "outputs": [],
   "source": [
    "dir(a)"
   ]
  },
  {
   "cell_type": "code",
   "execution_count": null,
   "metadata": {},
   "outputs": [],
   "source": [
    "#encalsulation with getter and setter\n",
    "class Person:\n",
    "    def __init__(self, name, age, gender) -> None:\n",
    "        self.__name = name #private\n",
    "        self._age=age #protective\n",
    "        self.gender = gender\n",
    "\n",
    "def get_name(person):\n",
    "    return person.__name\n",
    "\n",
    "a = Person(\"aa\", 10, \"F\")\n",
    "get_name(a)"
   ]
  }
 ],
 "metadata": {
  "kernelspec": {
   "display_name": ".venv",
   "language": "python",
   "name": "python3"
  },
  "language_info": {
   "codemirror_mode": {
    "name": "ipython",
    "version": 3
   },
   "file_extension": ".py",
   "mimetype": "text/x-python",
   "name": "python",
   "nbconvert_exporter": "python",
   "pygments_lexer": "ipython3",
   "version": "3.13.1"
  }
 },
 "nbformat": 4,
 "nbformat_minor": 2
}
