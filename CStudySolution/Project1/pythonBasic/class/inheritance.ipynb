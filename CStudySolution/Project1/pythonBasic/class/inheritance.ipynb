{
 "cells": [
  {
   "cell_type": "code",
   "execution_count": 1,
   "metadata": {},
   "outputs": [],
   "source": [
    "## single inheritance\n",
    "## parent class\n",
    "class Car():\n",
    "    def __init__(self, windows,doors,enginetype) -> None:\n",
    "        self.windows=windows\n",
    "        self.doors=doors\n",
    "        self.enginetype=enginetype\n",
    "    def drive(self):\n",
    "        print(f\"the person will drive the {self.enginetype} car\")"
   ]
  },
  {
   "cell_type": "code",
   "execution_count": 3,
   "metadata": {},
   "outputs": [
    {
     "name": "stdout",
     "output_type": "stream",
     "text": [
      "the person will drive the petrol car\n"
     ]
    }
   ],
   "source": [
    "car1 = Car(4,5,\"petrol\")\n",
    "car1.drive()"
   ]
  },
  {
   "cell_type": "code",
   "execution_count": 4,
   "metadata": {},
   "outputs": [],
   "source": [
    "class Tesla(Car):\n",
    "    def __init__(self, windows, doors, enginetype, is_selfdriving) -> None:\n",
    "        super().__init__(windows, doors, enginetype)\n",
    "        self.is_selfdriving = is_selfdriving\n",
    "    \n",
    "    def selfdriving(self):\n",
    "        print(f\"tesla supports {self.is_selfdriving}\")"
   ]
  },
  {
   "cell_type": "code",
   "execution_count": 7,
   "metadata": {},
   "outputs": [
    {
     "name": "stdout",
     "output_type": "stream",
     "text": [
      "tesla supports True\n",
      "the person will drive the electric car\n"
     ]
    }
   ],
   "source": [
    "tesla1=Tesla(4,5,\"electric\",True)\n",
    "tesla1.selfdriving()\n",
    "tesla1.drive()"
   ]
  },
  {
   "cell_type": "code",
   "execution_count": 10,
   "metadata": {},
   "outputs": [
    {
     "name": "stdout",
     "output_type": "stream",
     "text": [
      "Buddy say woof\n",
      "aaa\n"
     ]
    }
   ],
   "source": [
    "#multiple inheritance\n",
    "\n",
    "#base class 1\n",
    "class Animal:\n",
    "    def __init__(self, name) -> None:\n",
    "        self.name = name\n",
    "    \n",
    "    def speak(self):\n",
    "        print(\"Subclass must implement this method\")\n",
    "\n",
    "#base class 2\n",
    "class Pet:\n",
    "    def __init__(self, owner) -> None:\n",
    "        self.owner = owner\n",
    "\n",
    "##child class\n",
    "class Dog(Animal, Pet):\n",
    "    def __init__(self, name, owner) -> None:\n",
    "        Animal.__init__(self, name)\n",
    "        Pet.__init__(self, owner)\n",
    "    \n",
    "    def speak(self):\n",
    "        return f\"{self.name} say woof\"\n",
    "\n",
    "#create an object\n",
    "dog = Dog(\"Buddy\", \"aaa\")\n",
    "print(dog.speak())\n",
    "print(dog.owner)"
   ]
  }
 ],
 "metadata": {
  "kernelspec": {
   "display_name": ".venv",
   "language": "python",
   "name": "python3"
  },
  "language_info": {
   "codemirror_mode": {
    "name": "ipython",
    "version": 3
   },
   "file_extension": ".py",
   "mimetype": "text/x-python",
   "name": "python",
   "nbconvert_exporter": "python",
   "pygments_lexer": "ipython3",
   "version": "3.13.1"
  }
 },
 "nbformat": 4,
 "nbformat_minor": 2
}
