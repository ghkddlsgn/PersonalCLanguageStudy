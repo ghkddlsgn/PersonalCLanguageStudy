{
 "cells": [
  {
   "cell_type": "code",
   "execution_count": 3,
   "metadata": {},
   "outputs": [
    {
     "name": "stdout",
     "output_type": "stream",
     "text": [
      "Krish, 34 years old\n",
      "Person(name=Krish, age=34\n"
     ]
    }
   ],
   "source": [
    "#magic method ovveride\n",
    "from typing import override\n",
    "\n",
    "\n",
    "class Person:\n",
    "    def __init__(self, name, age):\n",
    "        self.name = name\n",
    "        self.age = age\n",
    "    @override\n",
    "    def __str__(self) -> str:\n",
    "        return f\"{self.name}, {self.age} years old\"\n",
    "    \n",
    "    @override\n",
    "    def __repr__(self) -> str:\n",
    "        return f\"Person(name={self.name}, age={self.age})\"\n",
    "person = Person(\"Krish\", 34)\n",
    "print(person)\n",
    "print(repr(person))"
   ]
  },
  {
   "cell_type": "code",
   "execution_count": null,
   "metadata": {},
   "outputs": [],
   "source": [
    "from __future__ import annotations\n",
    "from typing import override\n",
    "\n",
    "class Vector:\n",
    "    def __init__(self,x,y) -> None:\n",
    "        self.x = x\n",
    "        self.y = y\n",
    "    def __add__(self,other: Vector):\n",
    "        return Vector(self.x+other.x, self.y+other.y)\n",
    "    def __sub__(self, other: Vector):\n",
    "        return Vector(self.x - other.x, self.y - other.y)\n",
    "\n",
    "    def __mul__(self, other: Vector):\n",
    "        return Vector(self.x * other.x, self.y * other.y)\n",
    "\n",
    "    @override \n",
    "    def __eq__(self, value: object, /) -> bool:\n",
    "        if not isinstance(value, Vector):\n",
    "            return False\n",
    "        return self.x == value.x and self.y == value.y\n",
    "\n",
    "    @override\n",
    "    def __repr__(self) -> str:\n",
    "        return f\"Vector(x={self.x}, y={self.y})\"\n"
   ]
  }
 ],
 "metadata": {
  "kernelspec": {
   "display_name": ".venv",
   "language": "python",
   "name": "python3"
  },
  "language_info": {
   "codemirror_mode": {
    "name": "ipython",
    "version": 3
   },
   "file_extension": ".py",
   "mimetype": "text/x-python",
   "name": "python",
   "nbconvert_exporter": "python",
   "pygments_lexer": "ipython3",
   "version": "3.13.1"
  }
 },
 "nbformat": 4,
 "nbformat_minor": 2
}
