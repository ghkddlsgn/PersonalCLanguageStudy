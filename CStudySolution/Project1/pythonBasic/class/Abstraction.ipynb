{
 "cells": [
  {
   "cell_type": "code",
   "execution_count": 1,
   "metadata": {},
   "outputs": [
    {
     "name": "stdout",
     "output_type": "stream",
     "text": [
      "Car engine started\n"
     ]
    }
   ],
   "source": [
    "from abc import ABC,abstractmethod\n",
    "from typing import override\n",
    "\n",
    "#define an abstract class\n",
    "class Vehicle(ABC):\n",
    "     @abstractmethod\n",
    "     def start_engine(self):\n",
    "        pass\n",
    "\n",
    "#child class 1\n",
    "class Car(Vehicle):\n",
    "    @override\n",
    "    def start_engine(self):\n",
    "        return \"Car engine started\"\n",
    "\n",
    "#child class 2\n",
    "class Motocycle(Vehicle):\n",
    "    @override\n",
    "    def start_engine(self):\n",
    "        return \"motocycle engine started\"\n",
    "\n",
    "#create objects of car and motocycle\n",
    "car = Car()\n",
    "motorcycle = Motocycle()\n",
    "\n",
    "print(car.start_engine())\n",
    "\n"
   ]
  },
  {
   "cell_type": "code",
   "execution_count": 1,
   "metadata": {},
   "outputs": [
    {
     "name": "stdout",
     "output_type": "stream",
     "text": [
      "Car engine started\n"
     ]
    }
   ],
   "source": [
    "from abc import ABC, abstractmethod\n",
    "from typing import override\n",
    "\n",
    "class Vehicle(ABC):\n",
    "    def drive(self):\n",
    "        print(\"The vehecle is used for driving\")\n",
    "    \n",
    "    @abstractmethod\n",
    "    def start_engine(self):\n",
    "        pass\n",
    "\n",
    "class Car(Vehicle):\n",
    "    @override\n",
    "    def start_engine(self):\n",
    "        print(\"Car engine started\")\n",
    "    \n",
    "def operate_vehicle(vehicle):\n",
    "    vehicle.start_engine()\n",
    "\n",
    "car = Car()\n",
    "operate_vehicle(car)"
   ]
  }
 ],
 "metadata": {
  "kernelspec": {
   "display_name": ".venv",
   "language": "python",
   "name": "python3"
  },
  "language_info": {
   "codemirror_mode": {
    "name": "ipython",
    "version": 3
   },
   "file_extension": ".py",
   "mimetype": "text/x-python",
   "name": "python",
   "nbconvert_exporter": "python",
   "pygments_lexer": "ipython3",
   "version": "3.13.1"
  }
 },
 "nbformat": 4,
 "nbformat_minor": 2
}
