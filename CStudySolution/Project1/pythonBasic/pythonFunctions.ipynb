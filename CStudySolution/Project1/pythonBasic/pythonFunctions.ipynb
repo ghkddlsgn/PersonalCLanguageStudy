{
 "cells": [
  {
   "cell_type": "code",
   "execution_count": 3,
   "metadata": {},
   "outputs": [],
   "source": [
    "#variable length arguments\n",
    "\n",
    "def print_numbers(*args):\n",
    "    for numbers in args:\n",
    "        print(numbers)"
   ]
  },
  {
   "cell_type": "code",
   "execution_count": 5,
   "metadata": {},
   "outputs": [
    {
     "name": "stdout",
     "output_type": "stream",
     "text": [
      "1\n",
      "2\n",
      "3\n",
      "4\n",
      "5\n",
      "6\n",
      "3\n",
      "4\n",
      "5\n",
      "35\n",
      "3\n",
      "4324\n",
      "4\n",
      "aaaaa\n",
      "bbbbb\n"
     ]
    }
   ],
   "source": [
    "print_numbers(1,2,3,4,5,6,3,4,5,35,3,4324,4,\"aaaaa\", \"bbbbb\")"
   ]
  },
  {
   "cell_type": "code",
   "execution_count": 6,
   "metadata": {},
   "outputs": [],
   "source": [
    "#keywords arguments\n",
    "\n",
    "def print_details(**kwargs):\n",
    "    for key,value in kwargs.items():\n",
    "        print(f\"{key}:{value}\")"
   ]
  },
  {
   "cell_type": "code",
   "execution_count": 7,
   "metadata": {},
   "outputs": [
    {
     "name": "stdout",
     "output_type": "stream",
     "text": [
      "name:Krish\n",
      "age:32\n",
      "country:india\n"
     ]
    }
   ],
   "source": [
    "print_details(name=\"Krish\", age=\"32\", country=\"india\")"
   ]
  },
  {
   "cell_type": "code",
   "execution_count": 9,
   "metadata": {},
   "outputs": [],
   "source": [
    "#keywords arguments\n",
    "def print_details(*args,**kwargs):\n",
    "    for val in args:\n",
    "        print(f\"positional argument : {val}\")\n",
    "    \n",
    "    for key,value in kwargs.items():\n",
    "        print(f\"{key}:{value}\")"
   ]
  },
  {
   "cell_type": "code",
   "execution_count": 10,
   "metadata": {},
   "outputs": [
    {
     "name": "stdout",
     "output_type": "stream",
     "text": [
      "positional argument : 1\n",
      "positional argument : 2\n",
      "positional argument : 3\n",
      "name:Krish\n",
      "age:32\n",
      "country:india\n"
     ]
    }
   ],
   "source": [
    "print_details(1,2,3,name=\"Krish\", age=\"32\", country=\"india\")"
   ]
  }
 ],
 "metadata": {
  "language_info": {
   "name": "python"
  }
 },
 "nbformat": 4,
 "nbformat_minor": 2
}
