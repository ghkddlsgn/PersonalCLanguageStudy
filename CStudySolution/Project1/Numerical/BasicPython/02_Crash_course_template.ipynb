{
 "cells": [
  {
   "cell_type": "markdown",
   "id": "e691d848",
   "metadata": {},
   "source": [
    "# Crash Course for Python 3\n",
    "- Börge Göbel"
   ]
  },
  {
   "cell_type": "markdown",
   "id": "c90d914a",
   "metadata": {},
   "source": [
    "Import numpy"
   ]
  },
  {
   "cell_type": "code",
   "execution_count": 72,
   "id": "d94bfe5c",
   "metadata": {},
   "outputs": [],
   "source": [
    "import numpy as np"
   ]
  },
  {
   "cell_type": "markdown",
   "id": "ff755547",
   "metadata": {},
   "source": [
    "## Basic mathematic operations"
   ]
  },
  {
   "cell_type": "code",
   "execution_count": 73,
   "id": "cb28ade3",
   "metadata": {},
   "outputs": [
    {
     "data": {
      "text/plain": [
       "4"
      ]
     },
     "execution_count": 73,
     "metadata": {},
     "output_type": "execute_result"
    }
   ],
   "source": [
    "2+2 #Addition"
   ]
  },
  {
   "cell_type": "code",
   "execution_count": 74,
   "id": "706001de",
   "metadata": {},
   "outputs": [
    {
     "data": {
      "text/plain": [
       "3"
      ]
     },
     "execution_count": 74,
     "metadata": {},
     "output_type": "execute_result"
    }
   ],
   "source": [
    "8-5 #Subtraction"
   ]
  },
  {
   "cell_type": "code",
   "execution_count": 75,
   "id": "ee8e8473",
   "metadata": {},
   "outputs": [
    {
     "data": {
      "text/plain": [
       "16"
      ]
     },
     "execution_count": 75,
     "metadata": {},
     "output_type": "execute_result"
    }
   ],
   "source": [
    "4*4 #Multiplication"
   ]
  },
  {
   "cell_type": "code",
   "execution_count": 76,
   "id": "4d00b776",
   "metadata": {
    "scrolled": true
   },
   "outputs": [
    {
     "data": {
      "text/plain": [
       "2.5"
      ]
     },
     "execution_count": 76,
     "metadata": {},
     "output_type": "execute_result"
    }
   ],
   "source": [
    "5/2 #Division"
   ]
  },
  {
   "cell_type": "code",
   "execution_count": 77,
   "id": "670f94df",
   "metadata": {},
   "outputs": [
    {
     "data": {
      "text/plain": [
       "2"
      ]
     },
     "execution_count": 77,
     "metadata": {},
     "output_type": "execute_result"
    }
   ],
   "source": [
    "5//2 #Integral division"
   ]
  },
  {
   "cell_type": "code",
   "execution_count": 78,
   "id": "71da8f4e",
   "metadata": {},
   "outputs": [
    {
     "data": {
      "text/plain": [
       "1"
      ]
     },
     "execution_count": 78,
     "metadata": {},
     "output_type": "execute_result"
    }
   ],
   "source": [
    "5%2 #Modulus"
   ]
  },
  {
   "cell_type": "code",
   "execution_count": 79,
   "id": "b75d7b8f",
   "metadata": {},
   "outputs": [
    {
     "data": {
      "text/plain": [
       "9"
      ]
     },
     "execution_count": 79,
     "metadata": {},
     "output_type": "execute_result"
    }
   ],
   "source": [
    "3**2 #Exponent"
   ]
  },
  {
   "cell_type": "code",
   "execution_count": 80,
   "id": "ae937539",
   "metadata": {},
   "outputs": [
    {
     "data": {
      "text/plain": [
       "3.0"
      ]
     },
     "execution_count": 80,
     "metadata": {},
     "output_type": "execute_result"
    }
   ],
   "source": [
    "9**0.5 #sqrt command does not exist. It has to be imported."
   ]
  },
  {
   "cell_type": "code",
   "execution_count": 81,
   "id": "a120579b",
   "metadata": {},
   "outputs": [
    {
     "data": {
      "text/plain": [
       "np.float64(3.0)"
      ]
     },
     "execution_count": 81,
     "metadata": {},
     "output_type": "execute_result"
    }
   ],
   "source": [
    "np.sqrt(9)"
   ]
  },
  {
   "cell_type": "markdown",
   "id": "e6e265fa",
   "metadata": {},
   "source": [
    "Constants"
   ]
  },
  {
   "cell_type": "code",
   "execution_count": 82,
   "id": "3465d3f4",
   "metadata": {},
   "outputs": [
    {
     "data": {
      "text/plain": [
       "3.141592653589793"
      ]
     },
     "execution_count": 82,
     "metadata": {},
     "output_type": "execute_result"
    }
   ],
   "source": [
    "np.pi"
   ]
  },
  {
   "cell_type": "code",
   "execution_count": 83,
   "id": "1019aab3",
   "metadata": {},
   "outputs": [
    {
     "data": {
      "text/plain": [
       "2.718281828459045"
      ]
     },
     "execution_count": 83,
     "metadata": {},
     "output_type": "execute_result"
    }
   ],
   "source": [
    "np.e"
   ]
  },
  {
   "cell_type": "markdown",
   "id": "26ba4432",
   "metadata": {},
   "source": [
    "Define variables"
   ]
  },
  {
   "cell_type": "code",
   "execution_count": 84,
   "id": "11d6e783",
   "metadata": {},
   "outputs": [],
   "source": [
    "a = 3"
   ]
  },
  {
   "cell_type": "code",
   "execution_count": 85,
   "id": "20be76cb",
   "metadata": {},
   "outputs": [
    {
     "data": {
      "text/plain": [
       "7"
      ]
     },
     "execution_count": 85,
     "metadata": {},
     "output_type": "execute_result"
    }
   ],
   "source": [
    "4*a-5"
   ]
  },
  {
   "cell_type": "markdown",
   "id": "4d04a6a5",
   "metadata": {},
   "source": [
    "## Working with different data types"
   ]
  },
  {
   "cell_type": "markdown",
   "id": "683f8b6e",
   "metadata": {},
   "source": [
    "### Numbers (integer, float and complex)"
   ]
  },
  {
   "cell_type": "code",
   "execution_count": 86,
   "id": "7559d4d6",
   "metadata": {},
   "outputs": [
    {
     "data": {
      "text/plain": [
       "5"
      ]
     },
     "execution_count": 86,
     "metadata": {},
     "output_type": "execute_result"
    }
   ],
   "source": [
    "5"
   ]
  },
  {
   "cell_type": "code",
   "execution_count": 87,
   "id": "55d0d1a5",
   "metadata": {},
   "outputs": [
    {
     "data": {
      "text/plain": [
       "5.0"
      ]
     },
     "execution_count": 87,
     "metadata": {},
     "output_type": "execute_result"
    }
   ],
   "source": [
    "5.0"
   ]
  },
  {
   "cell_type": "code",
   "execution_count": 88,
   "id": "52bd4433",
   "metadata": {},
   "outputs": [
    {
     "data": {
      "text/plain": [
       "int"
      ]
     },
     "execution_count": 88,
     "metadata": {},
     "output_type": "execute_result"
    }
   ],
   "source": [
    "type(5)"
   ]
  },
  {
   "cell_type": "code",
   "execution_count": 89,
   "id": "553c21fe",
   "metadata": {},
   "outputs": [
    {
     "data": {
      "text/plain": [
       "float"
      ]
     },
     "execution_count": 89,
     "metadata": {},
     "output_type": "execute_result"
    }
   ],
   "source": [
    "type(5.0)"
   ]
  },
  {
   "cell_type": "markdown",
   "id": "c1582566",
   "metadata": {},
   "source": [
    "There is no need to define the data type. Python does it automatically."
   ]
  },
  {
   "cell_type": "code",
   "execution_count": 90,
   "id": "9acc3a58",
   "metadata": {},
   "outputs": [
    {
     "data": {
      "text/plain": [
       "10.0"
      ]
     },
     "execution_count": 90,
     "metadata": {},
     "output_type": "execute_result"
    }
   ],
   "source": [
    "5+5.0"
   ]
  },
  {
   "cell_type": "markdown",
   "id": "a7aa92f1",
   "metadata": {},
   "source": [
    "but of course it is possible to transform data types"
   ]
  },
  {
   "cell_type": "code",
   "execution_count": 91,
   "id": "4f2ca0c1",
   "metadata": {},
   "outputs": [
    {
     "data": {
      "text/plain": [
       "5.0"
      ]
     },
     "execution_count": 91,
     "metadata": {},
     "output_type": "execute_result"
    }
   ],
   "source": [
    "float(5)"
   ]
  },
  {
   "cell_type": "code",
   "execution_count": 92,
   "id": "2c3ea505",
   "metadata": {},
   "outputs": [
    {
     "data": {
      "text/plain": [
       "5"
      ]
     },
     "execution_count": 92,
     "metadata": {},
     "output_type": "execute_result"
    }
   ],
   "source": [
    "int(5.0)"
   ]
  },
  {
   "cell_type": "code",
   "execution_count": 93,
   "id": "8017d1bb",
   "metadata": {},
   "outputs": [
    {
     "data": {
      "text/plain": [
       "5"
      ]
     },
     "execution_count": 93,
     "metadata": {},
     "output_type": "execute_result"
    }
   ],
   "source": [
    "int(5.9)"
   ]
  },
  {
   "cell_type": "code",
   "execution_count": 94,
   "id": "5e604856",
   "metadata": {},
   "outputs": [
    {
     "data": {
      "text/plain": [
       "6"
      ]
     },
     "execution_count": 94,
     "metadata": {},
     "output_type": "execute_result"
    }
   ],
   "source": [
    "round(5.9)"
   ]
  },
  {
   "cell_type": "markdown",
   "id": "ef199bdb",
   "metadata": {},
   "source": [
    "Complex numbers"
   ]
  },
  {
   "cell_type": "code",
   "execution_count": 95,
   "id": "da788ef1",
   "metadata": {},
   "outputs": [
    {
     "data": {
      "text/plain": [
       "1j"
      ]
     },
     "execution_count": 95,
     "metadata": {},
     "output_type": "execute_result"
    }
   ],
   "source": [
    "1j"
   ]
  },
  {
   "cell_type": "code",
   "execution_count": 96,
   "id": "78fbf462",
   "metadata": {},
   "outputs": [
    {
     "data": {
      "text/plain": [
       "(-1+0j)"
      ]
     },
     "execution_count": 96,
     "metadata": {},
     "output_type": "execute_result"
    }
   ],
   "source": [
    "1j**2"
   ]
  },
  {
   "cell_type": "code",
   "execution_count": 97,
   "id": "354d282a",
   "metadata": {},
   "outputs": [
    {
     "data": {
      "text/plain": [
       "complex"
      ]
     },
     "execution_count": 97,
     "metadata": {},
     "output_type": "execute_result"
    }
   ],
   "source": [
    "type(3+1j)"
   ]
  },
  {
   "cell_type": "code",
   "execution_count": 98,
   "id": "3636475b",
   "metadata": {},
   "outputs": [
    {
     "data": {
      "text/plain": [
       "(-7+11j)"
      ]
     },
     "execution_count": 98,
     "metadata": {},
     "output_type": "execute_result"
    }
   ],
   "source": [
    "(3+5j)*(1+2j)"
   ]
  },
  {
   "cell_type": "markdown",
   "id": "e5c22c89",
   "metadata": {},
   "source": [
    "### Strings"
   ]
  },
  {
   "cell_type": "code",
   "execution_count": 99,
   "id": "84144ad5",
   "metadata": {},
   "outputs": [
    {
     "data": {
      "text/plain": [
       "'Hello'"
      ]
     },
     "execution_count": 99,
     "metadata": {},
     "output_type": "execute_result"
    }
   ],
   "source": [
    "'Hello'"
   ]
  },
  {
   "cell_type": "code",
   "execution_count": 100,
   "id": "d52f87ed",
   "metadata": {},
   "outputs": [
    {
     "data": {
      "text/plain": [
       "'Hello'"
      ]
     },
     "execution_count": 100,
     "metadata": {},
     "output_type": "execute_result"
    }
   ],
   "source": [
    "\"Hello\""
   ]
  },
  {
   "cell_type": "code",
   "execution_count": 101,
   "id": "124cba91",
   "metadata": {},
   "outputs": [
    {
     "data": {
      "text/plain": [
       "\"Let's get started!\""
      ]
     },
     "execution_count": 101,
     "metadata": {},
     "output_type": "execute_result"
    }
   ],
   "source": [
    "\"Let's get started!\""
   ]
  },
  {
   "cell_type": "code",
   "execution_count": 102,
   "id": "e58deecb",
   "metadata": {},
   "outputs": [],
   "source": [
    "string = \"This is a test\""
   ]
  },
  {
   "cell_type": "code",
   "execution_count": 103,
   "id": "d9120518",
   "metadata": {},
   "outputs": [
    {
     "data": {
      "text/plain": [
       "14"
      ]
     },
     "execution_count": 103,
     "metadata": {},
     "output_type": "execute_result"
    }
   ],
   "source": [
    "len(string)"
   ]
  },
  {
   "cell_type": "code",
   "execution_count": 104,
   "id": "1b72b4ce",
   "metadata": {},
   "outputs": [
    {
     "data": {
      "text/plain": [
       "'The answer is: 5.0'"
      ]
     },
     "execution_count": 104,
     "metadata": {},
     "output_type": "execute_result"
    }
   ],
   "source": [
    "\"The answer is: \"+\"5.0\""
   ]
  },
  {
   "cell_type": "code",
   "execution_count": 105,
   "id": "ee251515",
   "metadata": {},
   "outputs": [],
   "source": [
    "a = 5+8"
   ]
  },
  {
   "cell_type": "code",
   "execution_count": 106,
   "id": "f8f77703",
   "metadata": {},
   "outputs": [
    {
     "data": {
      "text/plain": [
       "'The answer is: 13'"
      ]
     },
     "execution_count": 106,
     "metadata": {},
     "output_type": "execute_result"
    }
   ],
   "source": [
    "\"The answer is: \"+str(a)"
   ]
  },
  {
   "cell_type": "markdown",
   "id": "63de019a",
   "metadata": {},
   "source": [
    "## Lists, Arrays & More"
   ]
  },
  {
   "cell_type": "markdown",
   "id": "a42c377b",
   "metadata": {},
   "source": [
    "### Lists"
   ]
  },
  {
   "cell_type": "code",
   "execution_count": 36,
   "id": "f131e6ac",
   "metadata": {},
   "outputs": [],
   "source": []
  },
  {
   "cell_type": "markdown",
   "id": "2b518ba6",
   "metadata": {},
   "source": [
    "Select elements of a list"
   ]
  },
  {
   "cell_type": "code",
   "execution_count": null,
   "id": "039627e6",
   "metadata": {},
   "outputs": [],
   "source": []
  },
  {
   "cell_type": "markdown",
   "id": "39712715",
   "metadata": {},
   "source": [
    "Manipulate lists"
   ]
  },
  {
   "cell_type": "code",
   "execution_count": null,
   "id": "e7767fe3",
   "metadata": {},
   "outputs": [],
   "source": []
  },
  {
   "cell_type": "markdown",
   "id": "3d03440e",
   "metadata": {},
   "source": [
    "Multi-dimensional lists"
   ]
  },
  {
   "cell_type": "code",
   "execution_count": null,
   "id": "f81ccb08",
   "metadata": {},
   "outputs": [],
   "source": []
  },
  {
   "cell_type": "markdown",
   "id": "f9f43b0e",
   "metadata": {},
   "source": [
    "Problems"
   ]
  },
  {
   "cell_type": "code",
   "execution_count": null,
   "id": "454b347e",
   "metadata": {},
   "outputs": [],
   "source": []
  },
  {
   "cell_type": "markdown",
   "id": "f01a4950",
   "metadata": {},
   "source": [
    "### Arrays (import numpy)"
   ]
  },
  {
   "cell_type": "code",
   "execution_count": 107,
   "id": "23cc7452",
   "metadata": {},
   "outputs": [],
   "source": [
    "array1 = np.array([1,4,9])\n",
    "array2 = np.array([1,\"a\",3])\n",
    "array3 = np.array([[1,2,3], [1,4,9]])"
   ]
  },
  {
   "cell_type": "code",
   "execution_count": 108,
   "id": "9bfac838",
   "metadata": {},
   "outputs": [
    {
     "data": {
      "text/plain": [
       "np.int64(4)"
      ]
     },
     "execution_count": 108,
     "metadata": {},
     "output_type": "execute_result"
    }
   ],
   "source": [
    "array1[1]"
   ]
  },
  {
   "cell_type": "markdown",
   "id": "d2730874",
   "metadata": {},
   "source": [
    "Manipulate"
   ]
  },
  {
   "cell_type": "code",
   "execution_count": 109,
   "id": "0dc40268",
   "metadata": {},
   "outputs": [
    {
     "data": {
      "text/plain": [
       "array([1, 4, 9, 5])"
      ]
     },
     "execution_count": 109,
     "metadata": {},
     "output_type": "execute_result"
    }
   ],
   "source": [
    "np.append(array1, 5)"
   ]
  },
  {
   "cell_type": "markdown",
   "id": "0761b8b1",
   "metadata": {},
   "source": [
    "Manipulate multi-dimensional arrays"
   ]
  },
  {
   "cell_type": "code",
   "execution_count": 110,
   "id": "ea7b5ce9",
   "metadata": {},
   "outputs": [
    {
     "data": {
      "text/plain": [
       "array([[1, 2, 3],\n",
       "       [1, 4, 9]])"
      ]
     },
     "execution_count": 110,
     "metadata": {},
     "output_type": "execute_result"
    }
   ],
   "source": [
    "array3"
   ]
  },
  {
   "cell_type": "code",
   "execution_count": 111,
   "id": "f9c20502",
   "metadata": {},
   "outputs": [
    {
     "data": {
      "text/plain": [
       "array([ 1,  2,  3,  1,  4,  9,  1,  8, 27])"
      ]
     },
     "execution_count": 111,
     "metadata": {},
     "output_type": "execute_result"
    }
   ],
   "source": [
    "np.append(array3, np.array([1,8,27]))"
   ]
  },
  {
   "cell_type": "code",
   "execution_count": 112,
   "id": "b8dbab83",
   "metadata": {},
   "outputs": [
    {
     "data": {
      "text/plain": [
       "array([[ 1,  2,  3],\n",
       "       [ 1,  4,  9],\n",
       "       [ 1,  8, 27]])"
      ]
     },
     "execution_count": 112,
     "metadata": {},
     "output_type": "execute_result"
    }
   ],
   "source": [
    "np.append(array3, np.array([[1,8,27]]), axis = 0)"
   ]
  },
  {
   "cell_type": "code",
   "execution_count": 113,
   "id": "06f5e229",
   "metadata": {},
   "outputs": [
    {
     "data": {
      "text/plain": [
       "array([[ 1,  2,  3,  4],\n",
       "       [ 1,  4,  9, 16]])"
      ]
     },
     "execution_count": 113,
     "metadata": {},
     "output_type": "execute_result"
    }
   ],
   "source": [
    "np.append(array3, np.array([[4],[16]]), axis = 1)"
   ]
  },
  {
   "cell_type": "markdown",
   "id": "1d6e46aa",
   "metadata": {},
   "source": [
    "Maths"
   ]
  },
  {
   "cell_type": "code",
   "execution_count": 114,
   "id": "89a8449f",
   "metadata": {},
   "outputs": [
    {
     "data": {
      "text/plain": [
       "array([ 2,  8, 18])"
      ]
     },
     "execution_count": 114,
     "metadata": {},
     "output_type": "execute_result"
    }
   ],
   "source": [
    "array1 * 2"
   ]
  },
  {
   "cell_type": "code",
   "execution_count": 115,
   "id": "8dc75d65",
   "metadata": {},
   "outputs": [
    {
     "data": {
      "text/plain": [
       "array([ 3,  6, 11])"
      ]
     },
     "execution_count": 115,
     "metadata": {},
     "output_type": "execute_result"
    }
   ],
   "source": [
    "array1 + 2"
   ]
  },
  {
   "cell_type": "code",
   "execution_count": 116,
   "id": "cfde480d",
   "metadata": {},
   "outputs": [
    {
     "data": {
      "text/plain": [
       "array([[ 2,  4,  6],\n",
       "       [ 2,  8, 18]])"
      ]
     },
     "execution_count": 116,
     "metadata": {},
     "output_type": "execute_result"
    }
   ],
   "source": [
    "array3 * 2"
   ]
  },
  {
   "cell_type": "code",
   "execution_count": 117,
   "id": "d6d6d84d",
   "metadata": {},
   "outputs": [
    {
     "data": {
      "text/plain": [
       "array([[ 3,  4,  5],\n",
       "       [ 3,  6, 11]])"
      ]
     },
     "execution_count": 117,
     "metadata": {},
     "output_type": "execute_result"
    }
   ],
   "source": [
    "array3 + 2"
   ]
  },
  {
   "cell_type": "markdown",
   "id": "74215be2",
   "metadata": {},
   "source": [
    "### Vectors and Matrices"
   ]
  },
  {
   "cell_type": "markdown",
   "id": "d06dbec0",
   "metadata": {},
   "source": [
    "### Vectors"
   ]
  },
  {
   "cell_type": "code",
   "execution_count": 118,
   "id": "24b8881a",
   "metadata": {},
   "outputs": [],
   "source": [
    "vec1 = np.array([1,1,1])\n",
    "vec2 = np.array([2,3,4])"
   ]
  },
  {
   "cell_type": "markdown",
   "id": "18a66c5e",
   "metadata": {},
   "source": [
    "Dot and cross product"
   ]
  },
  {
   "cell_type": "code",
   "execution_count": 119,
   "id": "fce06233",
   "metadata": {},
   "outputs": [
    {
     "data": {
      "text/plain": [
       "np.int64(9)"
      ]
     },
     "execution_count": 119,
     "metadata": {},
     "output_type": "execute_result"
    }
   ],
   "source": [
    "np.dot(vec1, vec2)"
   ]
  },
  {
   "cell_type": "code",
   "execution_count": 120,
   "id": "08317989",
   "metadata": {},
   "outputs": [
    {
     "data": {
      "text/plain": [
       "array([ 1, -2,  1])"
      ]
     },
     "execution_count": 120,
     "metadata": {},
     "output_type": "execute_result"
    }
   ],
   "source": [
    "np.cross(vec1,vec2)"
   ]
  },
  {
   "cell_type": "markdown",
   "id": "50850406",
   "metadata": {},
   "source": [
    "Norm"
   ]
  },
  {
   "cell_type": "code",
   "execution_count": 121,
   "id": "884449c9",
   "metadata": {},
   "outputs": [
    {
     "data": {
      "text/plain": [
       "np.float64(5.385164807134504)"
      ]
     },
     "execution_count": 121,
     "metadata": {},
     "output_type": "execute_result"
    }
   ],
   "source": [
    "# vector length\n",
    "np.linalg.norm(vec2)"
   ]
  },
  {
   "cell_type": "code",
   "execution_count": 122,
   "id": "123a352e",
   "metadata": {},
   "outputs": [
    {
     "data": {
      "text/plain": [
       "np.float64(5.385164807134504)"
      ]
     },
     "execution_count": 122,
     "metadata": {},
     "output_type": "execute_result"
    }
   ],
   "source": [
    "np.sqrt(sum(vec2**2))"
   ]
  },
  {
   "cell_type": "markdown",
   "id": "1cfcf2a6",
   "metadata": {},
   "source": [
    "### Matrices"
   ]
  },
  {
   "cell_type": "code",
   "execution_count": 123,
   "id": "1333904e",
   "metadata": {},
   "outputs": [],
   "source": [
    "mat1 = np.array([[1, -2, 3],[-4,5,-6],[7,-8,9]])\n",
    "mat2 = np.array([[1, 1, 1],[0,2,2],[0,0,3]])"
   ]
  },
  {
   "cell_type": "markdown",
   "id": "e637cfb5",
   "metadata": {},
   "source": [
    "Multiplication"
   ]
  },
  {
   "cell_type": "code",
   "execution_count": 124,
   "id": "180ce33c",
   "metadata": {},
   "outputs": [
    {
     "data": {
      "text/plain": [
       "array([[  1,  -2,   3],\n",
       "       [  0,  10, -12],\n",
       "       [  0,   0,  27]])"
      ]
     },
     "execution_count": 124,
     "metadata": {},
     "output_type": "execute_result"
    }
   ],
   "source": [
    "# this will just multiplay each element\n",
    "mat1*mat2"
   ]
  },
  {
   "cell_type": "code",
   "execution_count": 125,
   "id": "b595c284",
   "metadata": {},
   "outputs": [
    {
     "data": {
      "text/plain": [
       "array([[  1,  -3,   6],\n",
       "       [ -4,   6, -12],\n",
       "       [  7,  -9,  18]])"
      ]
     },
     "execution_count": 125,
     "metadata": {},
     "output_type": "execute_result"
    }
   ],
   "source": [
    "np.matmul(mat1, mat2)"
   ]
  },
  {
   "cell_type": "markdown",
   "id": "34cc24c1",
   "metadata": {},
   "source": [
    "Determinant and inverse"
   ]
  },
  {
   "cell_type": "code",
   "execution_count": 126,
   "id": "a2074c1e",
   "metadata": {},
   "outputs": [
    {
     "data": {
      "text/plain": [
       "np.float64(6.0)"
      ]
     },
     "execution_count": 126,
     "metadata": {},
     "output_type": "execute_result"
    }
   ],
   "source": [
    "np.linalg.det(mat2)"
   ]
  },
  {
   "cell_type": "code",
   "execution_count": 127,
   "id": "39dba0b7",
   "metadata": {},
   "outputs": [
    {
     "data": {
      "text/plain": [
       "array([[ 1.        , -0.5       ,  0.        ],\n",
       "       [ 0.        ,  0.5       , -0.33333333],\n",
       "       [ 0.        ,  0.        ,  0.33333333]])"
      ]
     },
     "execution_count": 127,
     "metadata": {},
     "output_type": "execute_result"
    }
   ],
   "source": [
    "np.linalg.inv(mat2)"
   ]
  },
  {
   "cell_type": "code",
   "execution_count": 128,
   "id": "6512e463",
   "metadata": {},
   "outputs": [
    {
     "data": {
      "text/plain": [
       "array([[1.00000000e+00, 0.00000000e+00, 0.00000000e+00],\n",
       "       [0.00000000e+00, 1.00000000e+00, 5.55111512e-17],\n",
       "       [0.00000000e+00, 0.00000000e+00, 1.00000000e+00]])"
      ]
     },
     "execution_count": 128,
     "metadata": {},
     "output_type": "execute_result"
    }
   ],
   "source": [
    "np.matmul(np.linalg.inv(mat2), mat2)"
   ]
  },
  {
   "cell_type": "markdown",
   "id": "3c83d463",
   "metadata": {},
   "source": [
    "### Dictionaries"
   ]
  },
  {
   "cell_type": "code",
   "execution_count": null,
   "id": "34d5c319",
   "metadata": {},
   "outputs": [],
   "source": []
  },
  {
   "cell_type": "markdown",
   "id": "1fce0d30",
   "metadata": {},
   "source": [
    "Select entries"
   ]
  },
  {
   "cell_type": "code",
   "execution_count": null,
   "id": "612b510d",
   "metadata": {},
   "outputs": [],
   "source": []
  },
  {
   "cell_type": "markdown",
   "id": "ad5b9d7b",
   "metadata": {},
   "source": [
    "Manipulate entries"
   ]
  },
  {
   "cell_type": "code",
   "execution_count": null,
   "id": "f81f0166",
   "metadata": {},
   "outputs": [],
   "source": []
  },
  {
   "cell_type": "markdown",
   "id": "898f34a9",
   "metadata": {},
   "source": [
    "## Loops & If statements"
   ]
  },
  {
   "cell_type": "markdown",
   "id": "0223b044",
   "metadata": {},
   "source": [
    "### While loop"
   ]
  },
  {
   "cell_type": "code",
   "execution_count": null,
   "id": "6b128817",
   "metadata": {},
   "outputs": [],
   "source": []
  },
  {
   "cell_type": "markdown",
   "id": "22a7713e",
   "metadata": {},
   "source": [
    "### While loop with if statement"
   ]
  },
  {
   "cell_type": "code",
   "execution_count": null,
   "id": "08dac301",
   "metadata": {},
   "outputs": [],
   "source": []
  },
  {
   "cell_type": "markdown",
   "id": "25679e12",
   "metadata": {},
   "source": [
    "### For loop"
   ]
  },
  {
   "cell_type": "code",
   "execution_count": null,
   "id": "82096ab6",
   "metadata": {},
   "outputs": [],
   "source": []
  },
  {
   "cell_type": "markdown",
   "id": "9a42f405",
   "metadata": {},
   "source": [
    "## Work with files"
   ]
  },
  {
   "cell_type": "markdown",
   "id": "59fc0b05",
   "metadata": {},
   "source": [
    "### Save"
   ]
  },
  {
   "cell_type": "markdown",
   "id": "ba81e7c0",
   "metadata": {},
   "source": [
    "Save the whole list at once"
   ]
  },
  {
   "cell_type": "code",
   "execution_count": 131,
   "id": "c89543d2",
   "metadata": {},
   "outputs": [],
   "source": [
    "storelist = [1,4,9,16.25]\n",
    "np.savetxt(\"storelist1.dat\", storelist, fmt=\"%s\")"
   ]
  },
  {
   "cell_type": "markdown",
   "id": "2098a20f",
   "metadata": {},
   "source": [
    "Save each line one after another"
   ]
  },
  {
   "cell_type": "code",
   "execution_count": 135,
   "id": "9933bcf0",
   "metadata": {},
   "outputs": [],
   "source": [
    "file = open('storelist3.dat', 'w')\n",
    "\n",
    "for i in range(1,6):\n",
    "    file.write(str(i**2))\n",
    "    file.write(\"\\n\")\n",
    "\n",
    "file.close()"
   ]
  },
  {
   "cell_type": "code",
   "execution_count": 136,
   "id": "9e2aa47e",
   "metadata": {},
   "outputs": [],
   "source": [
    "with open('storelist4.dat', 'w') as file:\n",
    "    for i in range(1,6):\n",
    "        file.write(str(i**2))\n",
    "        file.write(\"\\n\")"
   ]
  },
  {
   "cell_type": "markdown",
   "id": "fcfd7618",
   "metadata": {},
   "source": [
    "### Load"
   ]
  },
  {
   "cell_type": "code",
   "execution_count": 137,
   "id": "dc55e379",
   "metadata": {},
   "outputs": [],
   "source": [
    "loadlist = np.loadtxt(\"storelist1.dat\")"
   ]
  },
  {
   "cell_type": "code",
   "execution_count": 138,
   "id": "9799a45e",
   "metadata": {},
   "outputs": [
    {
     "data": {
      "text/plain": [
       "array([ 1.  ,  4.  ,  9.  , 16.25])"
      ]
     },
     "execution_count": 138,
     "metadata": {},
     "output_type": "execute_result"
    }
   ],
   "source": [
    "loadlist"
   ]
  },
  {
   "cell_type": "code",
   "execution_count": 140,
   "id": "ef4af397",
   "metadata": {},
   "outputs": [
    {
     "data": {
      "text/plain": [
       "np.float64(9.0)"
      ]
     },
     "execution_count": 140,
     "metadata": {},
     "output_type": "execute_result"
    }
   ],
   "source": [
    "loadlist[2]"
   ]
  },
  {
   "cell_type": "markdown",
   "id": "ea05e2b0",
   "metadata": {},
   "source": [
    "## Functions"
   ]
  },
  {
   "cell_type": "markdown",
   "id": "546f29c8",
   "metadata": {},
   "source": [
    "def _name_(_arguments_):\n",
    "\n",
    "    commands"
   ]
  },
  {
   "cell_type": "markdown",
   "id": "1f771f79",
   "metadata": {},
   "source": [
    "First function without arguments"
   ]
  },
  {
   "cell_type": "code",
   "execution_count": null,
   "id": "2f64c11f",
   "metadata": {},
   "outputs": [],
   "source": []
  },
  {
   "cell_type": "markdown",
   "id": "12767034",
   "metadata": {},
   "source": [
    "Create your own dot product function"
   ]
  },
  {
   "cell_type": "code",
   "execution_count": null,
   "id": "b0511f87",
   "metadata": {},
   "outputs": [],
   "source": []
  },
  {
   "cell_type": "markdown",
   "id": "b6dadb70",
   "metadata": {},
   "source": [
    "Use argument keywords"
   ]
  },
  {
   "cell_type": "code",
   "execution_count": null,
   "id": "f7177b74",
   "metadata": {},
   "outputs": [],
   "source": []
  },
  {
   "cell_type": "markdown",
   "id": "5f84b488",
   "metadata": {},
   "source": [
    "## Plots (import matplotlib)"
   ]
  },
  {
   "cell_type": "code",
   "execution_count": 142,
   "id": "6ccb52c4",
   "metadata": {},
   "outputs": [],
   "source": [
    "import matplotlib.pyplot as plt"
   ]
  },
  {
   "cell_type": "markdown",
   "id": "b12613a9",
   "metadata": {},
   "source": [
    "### Scatter"
   ]
  },
  {
   "cell_type": "code",
   "execution_count": 143,
   "id": "705a886c",
   "metadata": {},
   "outputs": [
    {
     "data": {
      "text/plain": [
       "<matplotlib.collections.PathCollection at 0x1e81b075d30>"
      ]
     },
     "execution_count": 143,
     "metadata": {},
     "output_type": "execute_result"
    },
    {
     "data": {
      "image/png": "[encoded data removed]",
      "text/plain": [
       "<Figure size 640x480 with 1 Axes>"
      ]
     },
     "metadata": {},
     "output_type": "display_data"
    }
   ],
   "source": [
    "plt.scatter([1,2,3,4,5], [5,-1,0,1,2])"
   ]
  },
  {
   "cell_type": "code",
   "execution_count": 144,
   "id": "5e37e30b",
   "metadata": {},
   "outputs": [],
   "source": [
    "coords1 = np.array([[1,1,1], [2,4,8], [3,9,27], [4,16,64], [5,25,125]])"
   ]
  },
  {
   "cell_type": "code",
   "execution_count": 146,
   "id": "6cf88df3",
   "metadata": {},
   "outputs": [
    {
     "data": {
      "text/plain": [
       "array([[  1,   2,   3,   4,   5],\n",
       "       [  1,   4,   9,  16,  25],\n",
       "       [  1,   8,  27,  64, 125]])"
      ]
     },
     "execution_count": 146,
     "metadata": {},
     "output_type": "execute_result"
    }
   ],
   "source": [
    "coords1.T"
   ]
  },
  {
   "cell_type": "code",
   "execution_count": 148,
   "id": "4a3643f8",
   "metadata": {},
   "outputs": [],
   "source": [
    "x1, y1, z1 = coords1.T"
   ]
  },
  {
   "cell_type": "code",
   "execution_count": 151,
   "id": "4bbf8a56",
   "metadata": {},
   "outputs": [
    {
     "data": {
      "text/plain": [
       "<matplotlib.collections.PathCollection at 0x1e81b3d5310>"
      ]
     },
     "execution_count": 151,
     "metadata": {},
     "output_type": "execute_result"
    },
    {
     "data": {
      "image/png": "[encoded data removed]",
      "text/plain": [
       "<Figure size 640x480 with 1 Axes>"
      ]
     },
     "metadata": {},
     "output_type": "display_data"
    }
   ],
   "source": [
    "plt.xlabel('x')\n",
    "plt.ylabel('y,z')\n",
    "plt.scatter(x1, y1)\n",
    "plt.scatter(x1, z1)"
   ]
  },
  {
   "cell_type": "markdown",
   "id": "3c87de0e",
   "metadata": {},
   "source": [
    "### Plot"
   ]
  },
  {
   "cell_type": "code",
   "execution_count": 153,
   "id": "d5f4b0dd",
   "metadata": {},
   "outputs": [],
   "source": [
    "#data points\n",
    "x1 = np.linspace(0,4,100)\n",
    "y1 = 1 + 2*np.cos(3*x1)"
   ]
  },
  {
   "cell_type": "code",
   "execution_count": 161,
   "id": "663927e8",
   "metadata": {},
   "outputs": [
    {
     "data": {
      "image/png": "[encoded data removed]",
      "text/plain": [
       "<Figure size 640x480 with 1 Axes>"
      ]
     },
     "metadata": {},
     "output_type": "display_data"
    }
   ],
   "source": [
    "plt.xlim([0,12])\n",
    "plt.plot(x1,y1)\n",
    "\n",
    "x2 = np.linspace(4,8,100)\n",
    "y2 = 1 + 2*np.cos(3*x2)\n",
    "plt.plot(x2,y2)\n",
    "\n",
    "x3 = np.linspace(8,12,100)\n",
    "y3 = 1 + 2*np.cos(3*x3)\n",
    "plt.scatter(x3,y3)\n",
    "\n",
    "plt.savefig('testplot.png')"
   ]
  },
  {
   "cell_type": "markdown",
   "id": "d1533152",
   "metadata": {},
   "source": [
    "### Density plot"
   ]
  },
  {
   "cell_type": "code",
   "execution_count": 162,
   "id": "1355713c",
   "metadata": {},
   "outputs": [
    {
     "data": {
      "text/plain": [
       "array([0., 1., 2., 3., 4., 5.])"
      ]
     },
     "execution_count": 162,
     "metadata": {},
     "output_type": "execute_result"
    }
   ],
   "source": [
    "np.linspace(0,5,6)"
   ]
  },
  {
   "cell_type": "code",
   "execution_count": 164,
   "id": "9e2e9c2c",
   "metadata": {},
   "outputs": [
    {
     "data": {
      "text/plain": [
       "(array([[0., 1., 2., 3., 4., 5.],\n",
       "        [0., 1., 2., 3., 4., 5.],\n",
       "        [0., 1., 2., 3., 4., 5.],\n",
       "        [0., 1., 2., 3., 4., 5.],\n",
       "        [0., 1., 2., 3., 4., 5.],\n",
       "        [0., 1., 2., 3., 4., 5.]]),\n",
       " array([[ 0.,  0.,  0.,  0.,  0.,  0.],\n",
       "        [ 2.,  2.,  2.,  2.,  2.,  2.],\n",
       "        [ 4.,  4.,  4.,  4.,  4.,  4.],\n",
       "        [ 6.,  6.,  6.,  6.,  6.,  6.],\n",
       "        [ 8.,  8.,  8.,  8.,  8.,  8.],\n",
       "        [10., 10., 10., 10., 10., 10.]]))"
      ]
     },
     "execution_count": 164,
     "metadata": {},
     "output_type": "execute_result"
    }
   ],
   "source": [
    "np.meshgrid(\n",
    "np.linspace(0,5,6),\n",
    "np.linspace(0,10,6)\n",
    ")"
   ]
  },
  {
   "cell_type": "code",
   "execution_count": 165,
   "id": "f6d14e9c",
   "metadata": {},
   "outputs": [
    {
     "data": {
      "text/plain": [
       "array([[[ 0.,  0.],\n",
       "        [ 0.,  2.],\n",
       "        [ 0.,  4.],\n",
       "        [ 0.,  6.],\n",
       "        [ 0.,  8.],\n",
       "        [ 0., 10.]],\n",
       "\n",
       "       [[ 1.,  0.],\n",
       "        [ 1.,  2.],\n",
       "        [ 1.,  4.],\n",
       "        [ 1.,  6.],\n",
       "        [ 1.,  8.],\n",
       "        [ 1., 10.]],\n",
       "\n",
       "       [[ 2.,  0.],\n",
       "        [ 2.,  2.],\n",
       "        [ 2.,  4.],\n",
       "        [ 2.,  6.],\n",
       "        [ 2.,  8.],\n",
       "        [ 2., 10.]],\n",
       "\n",
       "       [[ 3.,  0.],\n",
       "        [ 3.,  2.],\n",
       "        [ 3.,  4.],\n",
       "        [ 3.,  6.],\n",
       "        [ 3.,  8.],\n",
       "        [ 3., 10.]],\n",
       "\n",
       "       [[ 4.,  0.],\n",
       "        [ 4.,  2.],\n",
       "        [ 4.,  4.],\n",
       "        [ 4.,  6.],\n",
       "        [ 4.,  8.],\n",
       "        [ 4., 10.]],\n",
       "\n",
       "       [[ 5.,  0.],\n",
       "        [ 5.,  2.],\n",
       "        [ 5.,  4.],\n",
       "        [ 5.,  6.],\n",
       "        [ 5.,  8.],\n",
       "        [ 5., 10.]]])"
      ]
     },
     "execution_count": 165,
     "metadata": {},
     "output_type": "execute_result"
    }
   ],
   "source": [
    "np.transpose(\n",
    "    np.meshgrid(\n",
    "    np.linspace(0,5,6),\n",
    "    np.linspace(0,10,6)\n",
    "    )\n",
    ")"
   ]
  },
  {
   "cell_type": "code",
   "execution_count": 167,
   "id": "668621c1",
   "metadata": {},
   "outputs": [],
   "source": [
    "x2, y2 = np.meshgrid(np.linspace(-10,10,201),np.linspace(-10,10,201))\n",
    "z2 = x2 + y2**2"
   ]
  },
  {
   "cell_type": "code",
   "execution_count": 169,
   "id": "8bcd19e8",
   "metadata": {},
   "outputs": [
    {
     "data": {
      "text/plain": [
       "<a list of 15 text.Text objects>"
      ]
     },
     "execution_count": 169,
     "metadata": {},
     "output_type": "execute_result"
    },
    {
     "data": {
      "image/png": "[encoded data removed]",
      "text/plain": [
       "<Figure size 640x480 with 1 Axes>"
      ]
     },
     "metadata": {},
     "output_type": "display_data"
    }
   ],
   "source": [
    "contourplot = plt.contour(x2, y2, z2)\n",
    "plt.clabel(contourplot, inline = 1, fontsize = 10)"
   ]
  },
  {
   "cell_type": "code",
   "execution_count": 171,
   "id": "4e7d9c1f",
   "metadata": {},
   "outputs": [
    {
     "data": {
      "text/plain": [
       "<matplotlib.colorbar.Colorbar at 0x1e81b076e40>"
      ]
     },
     "execution_count": 171,
     "metadata": {},
     "output_type": "execute_result"
    },
    {
     "data": {
      "image/png": "[encoded data removed]",
      "text/plain": [
       "<Figure size 640x480 with 2 Axes>"
      ]
     },
     "metadata": {},
     "output_type": "display_data"
    }
   ],
   "source": [
    "x3, y3 = np.meshgrid(np.linspace(-10,10,201),np.linspace(-10,10,201))\n",
    "z3 = np.cos(x3+y3) + 0.05*(x3-y3)\n",
    "\n",
    "plt.contourf(x3, y3, z3)\n",
    "plt.colorbar()"
   ]
  },
  {
   "cell_type": "markdown",
   "id": "75d4f04e",
   "metadata": {},
   "source": [
    "### 3d plots"
   ]
  },
  {
   "cell_type": "code",
   "execution_count": 175,
   "id": "aec9347e",
   "metadata": {},
   "outputs": [
    {
     "data": {
      "text/plain": [
       "<mpl_toolkits.mplot3d.art3d.QuadContourSet3D at 0x1e81caf7d90>"
      ]
     },
     "execution_count": 175,
     "metadata": {},
     "output_type": "execute_result"
    },
    {
     "data": {
      "image/png": "[encoded data removed]",
      "text/plain": [
       "<Figure size 640x480 with 1 Axes>"
      ]
     },
     "metadata": {},
     "output_type": "display_data"
    }
   ],
   "source": [
    "plotproj = plt.axes(projection='3d')\n",
    "plotproj.view_init(70)\n",
    "plotproj.contour3D(x3,y3,z3,50, cmap = 'binary')"
   ]
  },
  {
   "cell_type": "markdown",
   "id": "627ab7c9",
   "metadata": {},
   "source": [
    "### 3d plots - lines & scatter plot"
   ]
  },
  {
   "cell_type": "code",
   "execution_count": 180,
   "id": "3d8b91b9",
   "metadata": {},
   "outputs": [
    {
     "data": {
      "text/plain": [
       "[<mpl_toolkits.mplot3d.art3d.Line3D at 0x1e81fbb9a90>]"
      ]
     },
     "execution_count": 180,
     "metadata": {},
     "output_type": "execute_result"
    },
    {
     "data": {
      "image/png": "[encoded data removed]",
      "text/plain": [
       "<Figure size 640x480 with 1 Axes>"
      ]
     },
     "metadata": {},
     "output_type": "display_data"
    }
   ],
   "source": [
    "plt3d = plt.axes(projection = '3d')\n",
    "z1 = np.linspace(0, 30, 301)\n",
    "x1 = np.sin(z1)\n",
    "y1 = np.cos(z1)\n",
    "plt.xlim([-2,2])\n",
    "plt.ylim([-2,2])\n",
    "plt3d.plot3D(x1,y1,z1)"
   ]
  },
  {
   "cell_type": "code",
   "execution_count": 181,
   "id": "62e590b5",
   "metadata": {},
   "outputs": [
    {
     "data": {
      "text/plain": [
       "<mpl_toolkits.mplot3d.art3d.Path3DCollection at 0x1e81fc56350>"
      ]
     },
     "execution_count": 181,
     "metadata": {},
     "output_type": "execute_result"
    },
    {
     "data": {
      "image/png": "[encoded data removed]",
      "text/plain": [
       "<Figure size 640x480 with 1 Axes>"
      ]
     },
     "metadata": {},
     "output_type": "display_data"
    }
   ],
   "source": [
    "plt3d = plt.axes(projection = '3d')\n",
    "z1 = np.linspace(0, 30, 301)\n",
    "x1 = np.sin(z1)\n",
    "y1 = np.cos(z1)\n",
    "plt.xlim([-2,2])\n",
    "plt.ylim([-2,2])\n",
    "plt3d.scatter3D(x1,y1,z1)"
   ]
  }
 ],
 "metadata": {
  "kernelspec": {
   "display_name": "Python 3 (ipykernel)",
   "language": "python",
   "name": "python3"
  },
  "language_info": {
   "codemirror_mode": {
    "name": "ipython",
    "version": 3
   },
   "file_extension": ".py",
   "mimetype": "text/x-python",
   "name": "python",
   "nbconvert_exporter": "python",
   "pygments_lexer": "ipython3",
   "version": "3.9.7"
  }
 },
 "nbformat": 4,
 "nbformat_minor": 5
}
